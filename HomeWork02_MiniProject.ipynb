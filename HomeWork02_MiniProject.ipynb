{
 "cells": [
  {
   "cell_type": "markdown",
   "id": "c1a92605",
   "metadata": {},
   "source": [
    "У міні-проекті ви повинні проаналізувати дані про бронювання готелів.\n",
    "\n",
    "Hotel – тип готелю (City Hotel або Resort Hotel)\n",
    "Is canceled – бронювання було скасовано (1) чи ні (0); не скасоване вважається успішним\n",
    "Lead time – кількість днів, що пройшли між датою бронювання та датою прибуття\n",
    "Arrival full date – повна дата прибуття\n",
    "Arrival date year – рік прибуття\n",
    "Arrival date month – місяць прибуття\n",
    "Arrival date week number – номер тижня прибуття\n",
    "Arrival date day of month – день прибуття\n",
    "Stays in weekend nights – кількість вихідних (субота чи неділя), які відвідувач забронював для проживання в готелі.\n",
    "Stays in week nights – кількість днів (з понеділка по п'ятницю), які відвідувач забронював для проживання в готелі.\n",
    "Stays total nights – загальна кількість заброньованих ночей (сума двох попередніх колонок)\n",
    "Adults – кількість дорослих\n",
    "Children – кількість дітей\n",
    "Babies – кількість немовлят\n",
    "Meal – вибраний тип живлення\n",
    "Country – країна походження клієнта\n",
    "Reserved room type – тип зарезервованого номера\n",
    "Assigned room type – тип отриманого номера (може відрізнятись від заброньованого)\n",
    "Customer type – тип бронювання\n",
    "Reservation status – значення останнього статусу броні: Canceled – було скасовано клієнтом; Check-Out – клієнт зареєструвався, але вже покинув готель; No-Show - клієнт не зареєструвався та повідомив адміністрації готелю причину\n",
    "Reservation status date – дата оновлення статусу"
   ]
  },
  {
   "cell_type": "markdown",
   "id": "89532a9f",
   "metadata": {},
   "source": [
    "1. Імпортуйте бібліотеку pandas як pd.\n",
    "Завантажте датасет bookings.csv з роздільником ;.\n",
    "Перевірте розмір таблиці, типи змінних, а потім виведіть перші 7 рядків, щоб переглянути дані."
   ]
  },
  {
   "cell_type": "code",
   "execution_count": 1,
   "id": "209f8184-80b5-45a5-b625-a0e107677acf",
   "metadata": {},
   "outputs": [],
   "source": [
    "import pandas as pd"
   ]
  },
  {
   "cell_type": "code",
   "execution_count": 2,
   "id": "2c0a1539",
   "metadata": {},
   "outputs": [],
   "source": [
    "url = 'https://drive.google.com/file/d/177A8Zc-6zwxI-_KdK4NSTTmQp-qprovu/view?usp=sharing'\n",
    "path = 'https://drive.google.com/uc?id=' + url.split('/')[-2]\n",
    "booking = pd.read_csv(path, sep=';')"
   ]
  },
  {
   "cell_type": "code",
   "execution_count": 3,
   "id": "f5315a5a-274c-46b8-a11b-f13bb98a284c",
   "metadata": {},
   "outputs": [
    {
     "data": {
      "text/plain": [
       "(119390, 21)"
      ]
     },
     "execution_count": 3,
     "metadata": {},
     "output_type": "execute_result"
    }
   ],
   "source": [
    "booking.shape"
   ]
  },
  {
   "cell_type": "code",
   "execution_count": 4,
   "id": "490ca2b2-088e-4d16-9f84-3be2bb774ff0",
   "metadata": {},
   "outputs": [
    {
     "data": {
      "text/plain": [
       "object     10\n",
       "int64      10\n",
       "float64     1\n",
       "dtype: int64"
      ]
     },
     "execution_count": 4,
     "metadata": {},
     "output_type": "execute_result"
    }
   ],
   "source": [
    "booking.dtypes.value_counts()"
   ]
  },
  {
   "cell_type": "code",
   "execution_count": 5,
   "id": "0a3a295f-5523-4228-b717-56e8a9da907c",
   "metadata": {},
   "outputs": [
    {
     "data": {
      "text/html": [
       "<div>\n",
       "<style scoped>\n",
       "    .dataframe tbody tr th:only-of-type {\n",
       "        vertical-align: middle;\n",
       "    }\n",
       "\n",
       "    .dataframe tbody tr th {\n",
       "        vertical-align: top;\n",
       "    }\n",
       "\n",
       "    .dataframe thead th {\n",
       "        text-align: right;\n",
       "    }\n",
       "</style>\n",
       "<table border=\"1\" class=\"dataframe\">\n",
       "  <thead>\n",
       "    <tr style=\"text-align: right;\">\n",
       "      <th></th>\n",
       "      <th>Hotel</th>\n",
       "      <th>Is Canceled</th>\n",
       "      <th>Lead Time</th>\n",
       "      <th>arrival full date</th>\n",
       "      <th>Arrival Date Year</th>\n",
       "      <th>Arrival Date Month</th>\n",
       "      <th>Arrival Date Week Number</th>\n",
       "      <th>Arrival Date Day of Month</th>\n",
       "      <th>Stays in Weekend nights</th>\n",
       "      <th>Stays in week nights</th>\n",
       "      <th>...</th>\n",
       "      <th>Adults</th>\n",
       "      <th>Children</th>\n",
       "      <th>Babies</th>\n",
       "      <th>Meal</th>\n",
       "      <th>Country</th>\n",
       "      <th>Reserved Room Type</th>\n",
       "      <th>Assigned room type</th>\n",
       "      <th>customer type</th>\n",
       "      <th>Reservation Status</th>\n",
       "      <th>Reservation status_date</th>\n",
       "    </tr>\n",
       "  </thead>\n",
       "  <tbody>\n",
       "    <tr>\n",
       "      <th>0</th>\n",
       "      <td>Resort Hotel</td>\n",
       "      <td>0</td>\n",
       "      <td>342</td>\n",
       "      <td>2015-07-01</td>\n",
       "      <td>2015</td>\n",
       "      <td>July</td>\n",
       "      <td>27</td>\n",
       "      <td>1</td>\n",
       "      <td>0</td>\n",
       "      <td>0</td>\n",
       "      <td>...</td>\n",
       "      <td>2</td>\n",
       "      <td>0.0</td>\n",
       "      <td>0</td>\n",
       "      <td>BB</td>\n",
       "      <td>PRT</td>\n",
       "      <td>C</td>\n",
       "      <td>C</td>\n",
       "      <td>Transient</td>\n",
       "      <td>Check-Out</td>\n",
       "      <td>2015-07-01</td>\n",
       "    </tr>\n",
       "    <tr>\n",
       "      <th>1</th>\n",
       "      <td>Resort Hotel</td>\n",
       "      <td>0</td>\n",
       "      <td>737</td>\n",
       "      <td>2015-07-01</td>\n",
       "      <td>2015</td>\n",
       "      <td>July</td>\n",
       "      <td>27</td>\n",
       "      <td>1</td>\n",
       "      <td>0</td>\n",
       "      <td>0</td>\n",
       "      <td>...</td>\n",
       "      <td>2</td>\n",
       "      <td>0.0</td>\n",
       "      <td>0</td>\n",
       "      <td>BB</td>\n",
       "      <td>PRT</td>\n",
       "      <td>C</td>\n",
       "      <td>C</td>\n",
       "      <td>Transient</td>\n",
       "      <td>Check-Out</td>\n",
       "      <td>2015-07-01</td>\n",
       "    </tr>\n",
       "    <tr>\n",
       "      <th>2</th>\n",
       "      <td>Resort Hotel</td>\n",
       "      <td>0</td>\n",
       "      <td>7</td>\n",
       "      <td>2015-07-01</td>\n",
       "      <td>2015</td>\n",
       "      <td>July</td>\n",
       "      <td>27</td>\n",
       "      <td>1</td>\n",
       "      <td>0</td>\n",
       "      <td>1</td>\n",
       "      <td>...</td>\n",
       "      <td>1</td>\n",
       "      <td>0.0</td>\n",
       "      <td>0</td>\n",
       "      <td>BB</td>\n",
       "      <td>GBR</td>\n",
       "      <td>A</td>\n",
       "      <td>C</td>\n",
       "      <td>Transient</td>\n",
       "      <td>Check-Out</td>\n",
       "      <td>2015-07-02</td>\n",
       "    </tr>\n",
       "    <tr>\n",
       "      <th>3</th>\n",
       "      <td>Resort Hotel</td>\n",
       "      <td>0</td>\n",
       "      <td>13</td>\n",
       "      <td>2015-07-01</td>\n",
       "      <td>2015</td>\n",
       "      <td>July</td>\n",
       "      <td>27</td>\n",
       "      <td>1</td>\n",
       "      <td>0</td>\n",
       "      <td>1</td>\n",
       "      <td>...</td>\n",
       "      <td>1</td>\n",
       "      <td>0.0</td>\n",
       "      <td>0</td>\n",
       "      <td>BB</td>\n",
       "      <td>GBR</td>\n",
       "      <td>A</td>\n",
       "      <td>A</td>\n",
       "      <td>Transient</td>\n",
       "      <td>Check-Out</td>\n",
       "      <td>2015-07-02</td>\n",
       "    </tr>\n",
       "    <tr>\n",
       "      <th>4</th>\n",
       "      <td>Resort Hotel</td>\n",
       "      <td>0</td>\n",
       "      <td>14</td>\n",
       "      <td>2015-07-01</td>\n",
       "      <td>2015</td>\n",
       "      <td>July</td>\n",
       "      <td>27</td>\n",
       "      <td>1</td>\n",
       "      <td>0</td>\n",
       "      <td>2</td>\n",
       "      <td>...</td>\n",
       "      <td>2</td>\n",
       "      <td>0.0</td>\n",
       "      <td>0</td>\n",
       "      <td>BB</td>\n",
       "      <td>GBR</td>\n",
       "      <td>A</td>\n",
       "      <td>A</td>\n",
       "      <td>Transient</td>\n",
       "      <td>Check-Out</td>\n",
       "      <td>2015-07-03</td>\n",
       "    </tr>\n",
       "    <tr>\n",
       "      <th>5</th>\n",
       "      <td>Resort Hotel</td>\n",
       "      <td>0</td>\n",
       "      <td>14</td>\n",
       "      <td>2015-07-01</td>\n",
       "      <td>2015</td>\n",
       "      <td>July</td>\n",
       "      <td>27</td>\n",
       "      <td>1</td>\n",
       "      <td>0</td>\n",
       "      <td>2</td>\n",
       "      <td>...</td>\n",
       "      <td>2</td>\n",
       "      <td>0.0</td>\n",
       "      <td>0</td>\n",
       "      <td>BB</td>\n",
       "      <td>GBR</td>\n",
       "      <td>A</td>\n",
       "      <td>A</td>\n",
       "      <td>Transient</td>\n",
       "      <td>Check-Out</td>\n",
       "      <td>2015-07-03</td>\n",
       "    </tr>\n",
       "    <tr>\n",
       "      <th>6</th>\n",
       "      <td>Resort Hotel</td>\n",
       "      <td>0</td>\n",
       "      <td>0</td>\n",
       "      <td>2015-07-01</td>\n",
       "      <td>2015</td>\n",
       "      <td>July</td>\n",
       "      <td>27</td>\n",
       "      <td>1</td>\n",
       "      <td>0</td>\n",
       "      <td>2</td>\n",
       "      <td>...</td>\n",
       "      <td>2</td>\n",
       "      <td>0.0</td>\n",
       "      <td>0</td>\n",
       "      <td>BB</td>\n",
       "      <td>PRT</td>\n",
       "      <td>C</td>\n",
       "      <td>C</td>\n",
       "      <td>Transient</td>\n",
       "      <td>Check-Out</td>\n",
       "      <td>2015-07-03</td>\n",
       "    </tr>\n",
       "  </tbody>\n",
       "</table>\n",
       "<p>7 rows × 21 columns</p>\n",
       "</div>"
      ],
      "text/plain": [
       "          Hotel  Is Canceled  Lead Time arrival full date  Arrival Date Year  \\\n",
       "0  Resort Hotel            0        342        2015-07-01               2015   \n",
       "1  Resort Hotel            0        737        2015-07-01               2015   \n",
       "2  Resort Hotel            0          7        2015-07-01               2015   \n",
       "3  Resort Hotel            0         13        2015-07-01               2015   \n",
       "4  Resort Hotel            0         14        2015-07-01               2015   \n",
       "5  Resort Hotel            0         14        2015-07-01               2015   \n",
       "6  Resort Hotel            0          0        2015-07-01               2015   \n",
       "\n",
       "  Arrival Date Month  Arrival Date Week Number  Arrival Date Day of Month  \\\n",
       "0               July                        27                          1   \n",
       "1               July                        27                          1   \n",
       "2               July                        27                          1   \n",
       "3               July                        27                          1   \n",
       "4               July                        27                          1   \n",
       "5               July                        27                          1   \n",
       "6               July                        27                          1   \n",
       "\n",
       "   Stays in Weekend nights  Stays in week nights  ...  Adults  Children  \\\n",
       "0                        0                     0  ...       2       0.0   \n",
       "1                        0                     0  ...       2       0.0   \n",
       "2                        0                     1  ...       1       0.0   \n",
       "3                        0                     1  ...       1       0.0   \n",
       "4                        0                     2  ...       2       0.0   \n",
       "5                        0                     2  ...       2       0.0   \n",
       "6                        0                     2  ...       2       0.0   \n",
       "\n",
       "   Babies  Meal Country Reserved Room Type Assigned room type customer type  \\\n",
       "0       0    BB     PRT                  C                  C     Transient   \n",
       "1       0    BB     PRT                  C                  C     Transient   \n",
       "2       0    BB     GBR                  A                  C     Transient   \n",
       "3       0    BB     GBR                  A                  A     Transient   \n",
       "4       0    BB     GBR                  A                  A     Transient   \n",
       "5       0    BB     GBR                  A                  A     Transient   \n",
       "6       0    BB     PRT                  C                  C     Transient   \n",
       "\n",
       "  Reservation Status Reservation status_date  \n",
       "0          Check-Out              2015-07-01  \n",
       "1          Check-Out              2015-07-01  \n",
       "2          Check-Out              2015-07-02  \n",
       "3          Check-Out              2015-07-02  \n",
       "4          Check-Out              2015-07-03  \n",
       "5          Check-Out              2015-07-03  \n",
       "6          Check-Out              2015-07-03  \n",
       "\n",
       "[7 rows x 21 columns]"
      ]
     },
     "execution_count": 5,
     "metadata": {},
     "output_type": "execute_result"
    }
   ],
   "source": [
    "booking.head(7)"
   ]
  },
  {
   "cell_type": "markdown",
   "id": "20594c98",
   "metadata": {},
   "source": [
    "2. Наведіть назви колонок до нижнього регістру та замініть пробіли на знак нижнього підкреслення."
   ]
  },
  {
   "cell_type": "code",
   "execution_count": 6,
   "id": "2d8b3729-77ba-454d-b2d0-578aca261f21",
   "metadata": {},
   "outputs": [],
   "source": [
    "booking.columns = booking.columns.str.replace(' ', '_').str.lower()"
   ]
  },
  {
   "cell_type": "code",
   "execution_count": 7,
   "id": "50f27511",
   "metadata": {},
   "outputs": [
    {
     "data": {
      "text/plain": [
       "Index(['hotel', 'is_canceled', 'lead_time', 'arrival_full_date',\n",
       "       'arrival_date_year', 'arrival_date_month', 'arrival_date_week_number',\n",
       "       'arrival_date_day_of_month', 'stays_in_weekend_nights',\n",
       "       'stays_in_week_nights', 'stays_total_nights', 'adults', 'children',\n",
       "       'babies', 'meal', 'country', 'reserved_room_type', 'assigned_room_type',\n",
       "       'customer_type', 'reservation_status', 'reservation_status_date'],\n",
       "      dtype='object')"
      ]
     },
     "execution_count": 7,
     "metadata": {},
     "output_type": "execute_result"
    }
   ],
   "source": [
    "booking.columns"
   ]
  },
  {
   "cell_type": "code",
   "execution_count": 8,
   "id": "4fc27ad7-0453-4fe7-92cf-86f3d0acad43",
   "metadata": {},
   "outputs": [
    {
     "data": {
      "text/plain": [
       "hotel                        0.000000\n",
       "is_canceled                  0.000000\n",
       "lead_time                    0.000000\n",
       "arrival_full_date            0.000000\n",
       "arrival_date_year            0.000000\n",
       "arrival_date_month           0.000000\n",
       "arrival_date_week_number     0.000000\n",
       "arrival_date_day_of_month    0.000000\n",
       "stays_in_weekend_nights      0.000000\n",
       "stays_in_week_nights         0.000000\n",
       "stays_total_nights           0.000000\n",
       "adults                       0.000000\n",
       "children                     0.000034\n",
       "babies                       0.000000\n",
       "meal                         0.000000\n",
       "country                      0.004087\n",
       "reserved_room_type           0.000000\n",
       "assigned_room_type           0.000000\n",
       "customer_type                0.000000\n",
       "reservation_status           0.000000\n",
       "reservation_status_date      0.000000\n",
       "dtype: float64"
      ]
     },
     "execution_count": 8,
     "metadata": {},
     "output_type": "execute_result"
    }
   ],
   "source": [
    "booking.isna().mean()"
   ]
  },
  {
   "cell_type": "markdown",
   "id": "a09a2a54",
   "metadata": {},
   "source": [
    "3. Користувачі з яких країн здійснили найбільше успішних бронювань? Вкажіть топ-5."
   ]
  },
  {
   "cell_type": "code",
   "execution_count": 9,
   "id": "98a8c484-8358-4d9d-be4c-61e95e489d47",
   "metadata": {},
   "outputs": [
    {
     "data": {
      "text/html": [
       "<div>\n",
       "<style scoped>\n",
       "    .dataframe tbody tr th:only-of-type {\n",
       "        vertical-align: middle;\n",
       "    }\n",
       "\n",
       "    .dataframe tbody tr th {\n",
       "        vertical-align: top;\n",
       "    }\n",
       "\n",
       "    .dataframe thead th {\n",
       "        text-align: right;\n",
       "    }\n",
       "</style>\n",
       "<table border=\"1\" class=\"dataframe\">\n",
       "  <thead>\n",
       "    <tr style=\"text-align: right;\">\n",
       "      <th></th>\n",
       "      <th>country</th>\n",
       "      <th>is_canceled</th>\n",
       "    </tr>\n",
       "  </thead>\n",
       "  <tbody>\n",
       "    <tr>\n",
       "      <th>125</th>\n",
       "      <td>PRT</td>\n",
       "      <td>21071</td>\n",
       "    </tr>\n",
       "    <tr>\n",
       "      <th>57</th>\n",
       "      <td>GBR</td>\n",
       "      <td>9676</td>\n",
       "    </tr>\n",
       "    <tr>\n",
       "      <th>54</th>\n",
       "      <td>FRA</td>\n",
       "      <td>8481</td>\n",
       "    </tr>\n",
       "    <tr>\n",
       "      <th>50</th>\n",
       "      <td>ESP</td>\n",
       "      <td>6391</td>\n",
       "    </tr>\n",
       "    <tr>\n",
       "      <th>42</th>\n",
       "      <td>DEU</td>\n",
       "      <td>6069</td>\n",
       "    </tr>\n",
       "  </tbody>\n",
       "</table>\n",
       "</div>"
      ],
      "text/plain": [
       "    country  is_canceled\n",
       "125     PRT        21071\n",
       "57      GBR         9676\n",
       "54      FRA         8481\n",
       "50      ESP         6391\n",
       "42      DEU         6069"
      ]
     },
     "execution_count": 9,
     "metadata": {},
     "output_type": "execute_result"
    }
   ],
   "source": [
    "# спосіб 1\n",
    "booking.query('is_canceled == 0') \\\n",
    "        .groupby('country', as_index=False) \\\n",
    "        .agg({'is_canceled':'count'}) \\\n",
    "        .sort_values('is_canceled', ascending=False)[:5]"
   ]
  },
  {
   "cell_type": "code",
   "execution_count": 10,
   "id": "acb645b5-f378-4a6a-bced-5a587fdc0147",
   "metadata": {},
   "outputs": [
    {
     "data": {
      "text/plain": [
       "PRT    21071\n",
       "GBR     9676\n",
       "FRA     8481\n",
       "ESP     6391\n",
       "DEU     6069\n",
       "Name: country, dtype: int64"
      ]
     },
     "execution_count": 10,
     "metadata": {},
     "output_type": "execute_result"
    }
   ],
   "source": [
    "# спосіб 2\n",
    "booking.query('is_canceled == 0') \\\n",
    "        .country \\\n",
    "        .value_counts() [:5]"
   ]
  },
  {
   "cell_type": "markdown",
   "id": "1b88e048",
   "metadata": {},
   "source": [
    "4. Скільки ночей у середньому бронюють готелі різних типів?"
   ]
  },
  {
   "cell_type": "code",
   "execution_count": 11,
   "id": "28ad82a2-8dc5-4b3d-be5e-6fe8a1e10c1f",
   "metadata": {},
   "outputs": [
    {
     "data": {
      "text/html": [
       "<div>\n",
       "<style scoped>\n",
       "    .dataframe tbody tr th:only-of-type {\n",
       "        vertical-align: middle;\n",
       "    }\n",
       "\n",
       "    .dataframe tbody tr th {\n",
       "        vertical-align: top;\n",
       "    }\n",
       "\n",
       "    .dataframe thead th {\n",
       "        text-align: right;\n",
       "    }\n",
       "</style>\n",
       "<table border=\"1\" class=\"dataframe\">\n",
       "  <thead>\n",
       "    <tr style=\"text-align: right;\">\n",
       "      <th></th>\n",
       "      <th>hotel</th>\n",
       "      <th>stays_total_nights</th>\n",
       "    </tr>\n",
       "  </thead>\n",
       "  <tbody>\n",
       "    <tr>\n",
       "      <th>0</th>\n",
       "      <td>City Hotel</td>\n",
       "      <td>2.98</td>\n",
       "    </tr>\n",
       "    <tr>\n",
       "      <th>1</th>\n",
       "      <td>Resort Hotel</td>\n",
       "      <td>4.32</td>\n",
       "    </tr>\n",
       "  </tbody>\n",
       "</table>\n",
       "</div>"
      ],
      "text/plain": [
       "          hotel  stays_total_nights\n",
       "0    City Hotel                2.98\n",
       "1  Resort Hotel                4.32"
      ]
     },
     "execution_count": 11,
     "metadata": {},
     "output_type": "execute_result"
    }
   ],
   "source": [
    "booking.groupby('hotel', as_index=False) \\\n",
    "        .agg({'stays_total_nights':'mean'}) \\\n",
    "        .round(2)"
   ]
  },
  {
   "cell_type": "markdown",
   "id": "755716a3",
   "metadata": {},
   "source": [
    "5. Іноді тип номера, отриманого клієнтом (assigned_room_type), відрізняється від заброньованого (reserved_room_type). Таке може статися, наприклад, через овербукінгу. Скільки подібних спостережень зустрілося у датасеті?"
   ]
  },
  {
   "cell_type": "code",
   "execution_count": 12,
   "id": "f7e15c84-e1a7-4b54-85fc-6bba0fafa7f9",
   "metadata": {},
   "outputs": [
    {
     "data": {
      "text/plain": [
       "14917"
      ]
     },
     "execution_count": 12,
     "metadata": {},
     "output_type": "execute_result"
    }
   ],
   "source": [
    "booking.query('reserved_room_type != assigned_room_type').shape[0]"
   ]
  },
  {
   "cell_type": "markdown",
   "id": "94006a6f",
   "metadata": {},
   "source": [
    "6. Проаналізуйте дату запланованого прибуття.\n",
    "– На який місяць найчастіше успішно оформляли броню у 2016? Чи змінився найпопулярніший місяць у 2017?\n",
    "– Згрупуйте дані за роками та перевірте, на який місяць бронювання готелю типу City Hotel скасовувалися найчастіше у кожний із періодів\n"
   ]
  },
  {
   "cell_type": "code",
   "execution_count": 13,
   "id": "2da9e71f-6138-4152-b4dc-ce8aa3c05299",
   "metadata": {},
   "outputs": [
    {
     "data": {
      "text/plain": [
       "October      6203\n",
       "May          5478\n",
       "April        5428\n",
       "September    5394\n",
       "June         5292\n",
       "August       5063\n",
       "March        4824\n",
       "July         4572\n",
       "November     4454\n",
       "February     3891\n",
       "December     3860\n",
       "January      2248\n",
       "Name: arrival_date_month, dtype: int64"
      ]
     },
     "execution_count": 13,
     "metadata": {},
     "output_type": "execute_result"
    }
   ],
   "source": [
    "booking.query('arrival_date_year == 2016') \\\n",
    "        .arrival_date_month \\\n",
    "        .value_counts()"
   ]
  },
  {
   "cell_type": "code",
   "execution_count": 14,
   "id": "be59a922-ba79-4b81-975f-bd0faa78f133",
   "metadata": {},
   "outputs": [
    {
     "data": {
      "text/plain": [
       "May         6313\n",
       "April       5661\n",
       "June        5647\n",
       "July        5313\n",
       "March       4970\n",
       "August      4925\n",
       "February    4177\n",
       "January     3681\n",
       "Name: arrival_date_month, dtype: int64"
      ]
     },
     "execution_count": 14,
     "metadata": {},
     "output_type": "execute_result"
    }
   ],
   "source": [
    "booking.query('arrival_date_year == 2017') \\\n",
    "        .arrival_date_month \\\n",
    "        .value_counts()"
   ]
  },
  {
   "cell_type": "code",
   "execution_count": 15,
   "id": "55a576f6-3014-4712-aaa0-eced4975721c",
   "metadata": {},
   "outputs": [
    {
     "data": {
      "text/plain": [
       "arrival_date_year  arrival_date_month\n",
       "2015               September             1543\n",
       "                   October               1321\n",
       "                   August                1232\n",
       "                   July                   939\n",
       "                   December               668\n",
       "                   November               301\n",
       "2016               October               1947\n",
       "                   June                  1720\n",
       "                   September             1567\n",
       "                   April                 1539\n",
       "                   May                   1436\n",
       "                   November              1360\n",
       "                   August                1247\n",
       "                   March                 1108\n",
       "                   December              1072\n",
       "                   July                  1043\n",
       "                   February               930\n",
       "                   January                438\n",
       "2017               May                   2217\n",
       "                   April                 1926\n",
       "                   June                  1808\n",
       "                   July                  1324\n",
       "                   March                 1278\n",
       "                   August                1123\n",
       "                   January               1044\n",
       "                   February               971\n",
       "Name: arrival_date_month, dtype: int64"
      ]
     },
     "execution_count": 15,
     "metadata": {},
     "output_type": "execute_result"
    }
   ],
   "source": [
    "booking.query('hotel == \"City Hotel\" and is_canceled == 1') \\\n",
    "        .groupby('arrival_date_year') \\\n",
    "        .arrival_date_month \\\n",
    "        .value_counts()"
   ]
  },
  {
   "cell_type": "markdown",
   "id": "4f5fc457",
   "metadata": {},
   "source": [
    "7. Подивіться на числові характеристики трьох змінних: adults, children та babies. Яка їх має найбільше середнє значення?"
   ]
  },
  {
   "cell_type": "code",
   "execution_count": 16,
   "id": "6677e410-2256-440c-92c7-ef59fda1ccc4",
   "metadata": {},
   "outputs": [
    {
     "data": {
      "text/plain": [
       "adults      1.86\n",
       "children    0.10\n",
       "babies      0.01\n",
       "dtype: float64"
      ]
     },
     "execution_count": 16,
     "metadata": {},
     "output_type": "execute_result"
    }
   ],
   "source": [
    "booking[['adults','children','babies']] \\\n",
    "        .mean() \\\n",
    "        .round(2)"
   ]
  },
  {
   "cell_type": "markdown",
   "id": "306d1d08",
   "metadata": {},
   "source": [
    "8. Створіть стовпчик total_kids, об'єднавши children і babies. Готелі якого типу в середньому мають популярність у клієнтів з дітьми?"
   ]
  },
  {
   "cell_type": "code",
   "execution_count": 17,
   "id": "2ce21be6-f60a-4305-9793-a0d4aff06a43",
   "metadata": {},
   "outputs": [],
   "source": [
    "booking['total_kids'] = booking['children'] + booking['babies']"
   ]
  },
  {
   "cell_type": "code",
   "execution_count": 18,
   "id": "8adfda19-5175-4823-935d-26afed09451d",
   "metadata": {},
   "outputs": [
    {
     "data": {
      "text/html": [
       "<div>\n",
       "<style scoped>\n",
       "    .dataframe tbody tr th:only-of-type {\n",
       "        vertical-align: middle;\n",
       "    }\n",
       "\n",
       "    .dataframe tbody tr th {\n",
       "        vertical-align: top;\n",
       "    }\n",
       "\n",
       "    .dataframe thead th {\n",
       "        text-align: right;\n",
       "    }\n",
       "</style>\n",
       "<table border=\"1\" class=\"dataframe\">\n",
       "  <thead>\n",
       "    <tr style=\"text-align: right;\">\n",
       "      <th></th>\n",
       "      <th>hotel</th>\n",
       "      <th>total_kids</th>\n",
       "    </tr>\n",
       "  </thead>\n",
       "  <tbody>\n",
       "    <tr>\n",
       "      <th>0</th>\n",
       "      <td>City Hotel</td>\n",
       "      <td>0.10</td>\n",
       "    </tr>\n",
       "    <tr>\n",
       "      <th>1</th>\n",
       "      <td>Resort Hotel</td>\n",
       "      <td>0.14</td>\n",
       "    </tr>\n",
       "  </tbody>\n",
       "</table>\n",
       "</div>"
      ],
      "text/plain": [
       "          hotel  total_kids\n",
       "0    City Hotel        0.10\n",
       "1  Resort Hotel        0.14"
      ]
     },
     "execution_count": 18,
     "metadata": {},
     "output_type": "execute_result"
    }
   ],
   "source": [
    "booking.groupby('hotel', as_index=False) \\\n",
    "        .agg({'total_kids': 'mean'}) \\\n",
    "        .round(2)"
   ]
  },
  {
   "cell_type": "markdown",
   "id": "1ce0dd65",
   "metadata": {},
   "source": [
    "9. Створіть змінну has_kids, яка набуває значення True, якщо клієнт при бронюванні вказав хоча б одну дитину (total_kids), інакше – False.\n",
    "Порахуйте відношення кількості користувачів до загальної кількості клієнтів, виражене у відсотках (churn rate). Вкажіть, серед якої групи показник вищий."
   ]
  },
  {
   "cell_type": "code",
   "execution_count": 19,
   "id": "a0846306-40be-4b90-b064-6921fcbc1673",
   "metadata": {},
   "outputs": [],
   "source": [
    "booking['has_kids'] = booking['total_kids'] > 0"
   ]
  },
  {
   "cell_type": "code",
   "execution_count": 20,
   "id": "c50a9a54-050a-44eb-92d5-86d5b96e7e2e",
   "metadata": {},
   "outputs": [],
   "source": [
    "no_kids_churn = booking.query('is_canceled == 1 and has_kids == False').shape[0] / booking.query('has_kids == False').shape[0]\n",
    "no_kids_churn = round(no_kids_churn * 100,2)"
   ]
  },
  {
   "cell_type": "code",
   "execution_count": 21,
   "id": "0b4713bd-18b9-4de8-a562-a23fc01bf76a",
   "metadata": {},
   "outputs": [
    {
     "data": {
      "text/plain": [
       "37.22"
      ]
     },
     "execution_count": 21,
     "metadata": {},
     "output_type": "execute_result"
    }
   ],
   "source": [
    "no_kids_churn"
   ]
  }
 ],
 "metadata": {
  "kernelspec": {
   "display_name": "Python 3 (ipykernel)",
   "language": "python",
   "name": "python3"
  },
  "language_info": {
   "codemirror_mode": {
    "name": "ipython",
    "version": 3
   },
   "file_extension": ".py",
   "mimetype": "text/x-python",
   "name": "python",
   "nbconvert_exporter": "python",
   "pygments_lexer": "ipython3",
   "version": "3.9.4"
  }
 },
 "nbformat": 4,
 "nbformat_minor": 5
}
