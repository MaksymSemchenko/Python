{
 "cells": [
  {
   "cell_type": "markdown",
   "id": "b510853f",
   "metadata": {},
   "source": [
    "1. У змінній df знаходиться датафрейм. Ваше завдання покласти в змінний df_shape рядок з інформацією, скільки ліній і стовпців він має в наступному вигляді:\n",
    "'df has y rows and x columns'\n",
    "де y - Число рядків, а x - Число колонок."
   ]
  },
  {
   "cell_type": "code",
   "execution_count": 1,
   "id": "0976754b",
   "metadata": {},
   "outputs": [],
   "source": [
    "import pandas as pd\n",
    "import numpy as np\n",
    "import seaborn as sns\n",
    "import matplotlib.pyplot as plt"
   ]
  },
  {
   "cell_type": "code",
   "execution_count": 2,
   "id": "3966485c",
   "metadata": {},
   "outputs": [],
   "source": [
    "taxi_url = 'https://drive.google.com/file/d/1fUHNdM_8rrXqbp0sI23JSekdfvKf-Jo2/view?usp=sharing'\n",
    "taxi_path = 'https://drive.google.com/uc?id=' + taxi_url.split('/')[-2]\n",
    "taxi = pd.read_csv(taxi_path, sep=';')"
   ]
  },
  {
   "cell_type": "code",
   "execution_count": 3,
   "id": "8e5a6970",
   "metadata": {},
   "outputs": [
    {
     "data": {
      "text/html": [
       "<div>\n",
       "<style scoped>\n",
       "    .dataframe tbody tr th:only-of-type {\n",
       "        vertical-align: middle;\n",
       "    }\n",
       "\n",
       "    .dataframe tbody tr th {\n",
       "        vertical-align: top;\n",
       "    }\n",
       "\n",
       "    .dataframe thead th {\n",
       "        text-align: right;\n",
       "    }\n",
       "</style>\n",
       "<table border=\"1\" class=\"dataframe\">\n",
       "  <thead>\n",
       "    <tr style=\"text-align: right;\">\n",
       "      <th></th>\n",
       "      <th>journey_id</th>\n",
       "      <th>user_id</th>\n",
       "      <th>driver_id</th>\n",
       "      <th>taxi_id</th>\n",
       "      <th>icon</th>\n",
       "      <th>start_type</th>\n",
       "      <th>start_at</th>\n",
       "      <th>start_lat</th>\n",
       "      <th>start_lon</th>\n",
       "      <th>end_at</th>\n",
       "      <th>end_lat</th>\n",
       "      <th>end_lon</th>\n",
       "      <th>end_state</th>\n",
       "      <th>driver_start_lat</th>\n",
       "      <th>driver_start_lon</th>\n",
       "      <th>arrived_at</th>\n",
       "      <th>source</th>\n",
       "      <th>driver_score</th>\n",
       "      <th>rider_score</th>\n",
       "    </tr>\n",
       "  </thead>\n",
       "  <tbody>\n",
       "    <tr>\n",
       "      <th>0</th>\n",
       "      <td>23a1406fc6a11d866e3c82f22eed4d4c</td>\n",
       "      <td>0e9af5bbf1edfe591b54ecdfd7e91e26</td>\n",
       "      <td>583949a89a9ee17d19e3ca4f137b6b4c</td>\n",
       "      <td>b12f4f09c783e29fe0d0ea624530db56</td>\n",
       "      <td>executive</td>\n",
       "      <td>asap</td>\n",
       "      <td>2010-11-16 16:44:00</td>\n",
       "      <td>-12,13983536</td>\n",
       "      <td>-77,02355957</td>\n",
       "      <td>2010-11-16 17:29:00</td>\n",
       "      <td>-12,05537033</td>\n",
       "      <td>-77,0413208</td>\n",
       "      <td>drop off</td>\n",
       "      <td>-12,10825481</td>\n",
       "      <td>-77,0272739</td>\n",
       "      <td>2010-11-16 17:02:00</td>\n",
       "      <td>iPhone</td>\n",
       "      <td>5.0</td>\n",
       "      <td>5.0</td>\n",
       "    </tr>\n",
       "    <tr>\n",
       "      <th>1</th>\n",
       "      <td>dd2af4715d0dc16eded53afc0e243577</td>\n",
       "      <td>a553c46e3a22fb9c326aeb3d72b3334e</td>\n",
       "      <td>NaN</td>\n",
       "      <td>NaN</td>\n",
       "      <td>executive</td>\n",
       "      <td>asap</td>\n",
       "      <td>2010-06-01 00:34:00</td>\n",
       "      <td>-12,13874817</td>\n",
       "      <td>-76,99536133</td>\n",
       "      <td>2010-06-01 00:37:00</td>\n",
       "      <td>-12,12465668</td>\n",
       "      <td>-77,02886963</td>\n",
       "      <td>not found</td>\n",
       "      <td>NaN</td>\n",
       "      <td>NaN</td>\n",
       "      <td>NaN</td>\n",
       "      <td>iPhone</td>\n",
       "      <td>NaN</td>\n",
       "      <td>NaN</td>\n",
       "    </tr>\n",
       "    <tr>\n",
       "      <th>2</th>\n",
       "      <td>dd91e131888064bf7df3ce08f3d4b4ad</td>\n",
       "      <td>a553c46e3a22fb9c326aeb3d72b3334e</td>\n",
       "      <td>NaN</td>\n",
       "      <td>NaN</td>\n",
       "      <td>executive</td>\n",
       "      <td>asap</td>\n",
       "      <td>2010-05-31 05:01:00</td>\n",
       "      <td>-12,12453079</td>\n",
       "      <td>-77,02780151</td>\n",
       "      <td>2010-05-31 05:04:00</td>\n",
       "      <td>-12,13883209</td>\n",
       "      <td>-76,99530029</td>\n",
       "      <td>not found</td>\n",
       "      <td>NaN</td>\n",
       "      <td>NaN</td>\n",
       "      <td>NaN</td>\n",
       "      <td>iPhone</td>\n",
       "      <td>NaN</td>\n",
       "      <td>NaN</td>\n",
       "    </tr>\n",
       "    <tr>\n",
       "      <th>3</th>\n",
       "      <td>dd2af4715d0dc16eded53afc0e2466d0</td>\n",
       "      <td>a553c46e3a22fb9c326aeb3d72b3334e</td>\n",
       "      <td>NaN</td>\n",
       "      <td>NaN</td>\n",
       "      <td>executive</td>\n",
       "      <td>asap</td>\n",
       "      <td>2010-06-01 00:29:00</td>\n",
       "      <td>-12,13885117</td>\n",
       "      <td>-76,99530029</td>\n",
       "      <td>2010-06-01 00:32:00</td>\n",
       "      <td>-12,12458801</td>\n",
       "      <td>-77,02896118</td>\n",
       "      <td>not found</td>\n",
       "      <td>NaN</td>\n",
       "      <td>NaN</td>\n",
       "      <td>NaN</td>\n",
       "      <td>iPhone</td>\n",
       "      <td>NaN</td>\n",
       "      <td>NaN</td>\n",
       "    </tr>\n",
       "    <tr>\n",
       "      <th>4</th>\n",
       "      <td>85b7eabcf5d84e42dc7629b7d27781af</td>\n",
       "      <td>56772d544fdfa589a020a1ff894a86f7</td>\n",
       "      <td>d665fb9f75ef5d9cd0fd89479380ba78</td>\n",
       "      <td>0accdd3aa5a322f4129fa20b53278c69</td>\n",
       "      <td>executive</td>\n",
       "      <td>reserved</td>\n",
       "      <td>2010-09-11 23:55:00</td>\n",
       "      <td>-12,08995438</td>\n",
       "      <td>-76,92626953</td>\n",
       "      <td>2010-09-12 01:07:00</td>\n",
       "      <td>-12,02223206</td>\n",
       "      <td>-77,10638428</td>\n",
       "      <td>drop off</td>\n",
       "      <td>-12,08311558</td>\n",
       "      <td>-76,9277072</td>\n",
       "      <td>2010-09-11 23:50:00</td>\n",
       "      <td>iPhone</td>\n",
       "      <td>4.0</td>\n",
       "      <td>5.0</td>\n",
       "    </tr>\n",
       "  </tbody>\n",
       "</table>\n",
       "</div>"
      ],
      "text/plain": [
       "                         journey_id                           user_id  \\\n",
       "0  23a1406fc6a11d866e3c82f22eed4d4c  0e9af5bbf1edfe591b54ecdfd7e91e26   \n",
       "1  dd2af4715d0dc16eded53afc0e243577  a553c46e3a22fb9c326aeb3d72b3334e   \n",
       "2  dd91e131888064bf7df3ce08f3d4b4ad  a553c46e3a22fb9c326aeb3d72b3334e   \n",
       "3  dd2af4715d0dc16eded53afc0e2466d0  a553c46e3a22fb9c326aeb3d72b3334e   \n",
       "4  85b7eabcf5d84e42dc7629b7d27781af  56772d544fdfa589a020a1ff894a86f7   \n",
       "\n",
       "                          driver_id                           taxi_id  \\\n",
       "0  583949a89a9ee17d19e3ca4f137b6b4c  b12f4f09c783e29fe0d0ea624530db56   \n",
       "1                               NaN                               NaN   \n",
       "2                               NaN                               NaN   \n",
       "3                               NaN                               NaN   \n",
       "4  d665fb9f75ef5d9cd0fd89479380ba78  0accdd3aa5a322f4129fa20b53278c69   \n",
       "\n",
       "        icon start_type             start_at     start_lat     start_lon  \\\n",
       "0  executive       asap  2010-11-16 16:44:00  -12,13983536  -77,02355957   \n",
       "1  executive       asap  2010-06-01 00:34:00  -12,13874817  -76,99536133   \n",
       "2  executive       asap  2010-05-31 05:01:00  -12,12453079  -77,02780151   \n",
       "3  executive       asap  2010-06-01 00:29:00  -12,13885117  -76,99530029   \n",
       "4  executive   reserved  2010-09-11 23:55:00  -12,08995438  -76,92626953   \n",
       "\n",
       "                end_at       end_lat       end_lon  end_state  \\\n",
       "0  2010-11-16 17:29:00  -12,05537033   -77,0413208   drop off   \n",
       "1  2010-06-01 00:37:00  -12,12465668  -77,02886963  not found   \n",
       "2  2010-05-31 05:04:00  -12,13883209  -76,99530029  not found   \n",
       "3  2010-06-01 00:32:00  -12,12458801  -77,02896118  not found   \n",
       "4  2010-09-12 01:07:00  -12,02223206  -77,10638428   drop off   \n",
       "\n",
       "  driver_start_lat driver_start_lon           arrived_at  source  \\\n",
       "0     -12,10825481      -77,0272739  2010-11-16 17:02:00  iPhone   \n",
       "1              NaN              NaN                  NaN  iPhone   \n",
       "2              NaN              NaN                  NaN  iPhone   \n",
       "3              NaN              NaN                  NaN  iPhone   \n",
       "4     -12,08311558      -76,9277072  2010-09-11 23:50:00  iPhone   \n",
       "\n",
       "   driver_score  rider_score  \n",
       "0           5.0          5.0  \n",
       "1           NaN          NaN  \n",
       "2           NaN          NaN  \n",
       "3           NaN          NaN  \n",
       "4           4.0          5.0  "
      ]
     },
     "execution_count": 3,
     "metadata": {},
     "output_type": "execute_result"
    }
   ],
   "source": [
    "taxi.head()"
   ]
  },
  {
   "cell_type": "code",
   "execution_count": 4,
   "id": "76b88108",
   "metadata": {},
   "outputs": [
    {
     "data": {
      "text/plain": [
       "(23111, 19)"
      ]
     },
     "execution_count": 4,
     "metadata": {},
     "output_type": "execute_result"
    }
   ],
   "source": [
    "taxi.shape"
   ]
  },
  {
   "cell_type": "code",
   "execution_count": 5,
   "id": "0e07d992",
   "metadata": {},
   "outputs": [],
   "source": [
    "text = 'df has {} rows and {} columns'\n",
    "df_shape = text.format(taxi.shape[0], taxi.shape[1])"
   ]
  },
  {
   "cell_type": "code",
   "execution_count": 6,
   "id": "1b62fc7d",
   "metadata": {},
   "outputs": [
    {
     "data": {
      "text/plain": [
       "'df has 23111 rows and 19 columns'"
      ]
     },
     "execution_count": 6,
     "metadata": {},
     "output_type": "execute_result"
    }
   ],
   "source": [
    "df_shape"
   ]
  },
  {
   "cell_type": "code",
   "execution_count": 7,
   "id": "bd7d42b3",
   "metadata": {},
   "outputs": [],
   "source": [
    "df_shape1 = f'df has {taxi.shape[0]} rows and {taxi.shape[1]} columns'"
   ]
  },
  {
   "cell_type": "code",
   "execution_count": 8,
   "id": "b979077e",
   "metadata": {},
   "outputs": [
    {
     "data": {
      "text/plain": [
       "'df has 23111 rows and 19 columns'"
      ]
     },
     "execution_count": 8,
     "metadata": {},
     "output_type": "execute_result"
    }
   ],
   "source": [
    "df_shape1"
   ]
  },
  {
   "attachments": {
    "task2_1.png": {
     "image/png": "[encoded data removed]"
    }
   },
   "cell_type": "markdown",
   "id": "ace5ebd1",
   "metadata": {},
   "source": [
    "2. Покладіть у змінну na_number серію, в якій для кожної колонки вказано скільки осередків містять пропущені значення.\n",
    "Наприклад, для такого датафрейму: \n",
    "![task2_1.png](attachment:task2_1.png)"
   ]
  },
  {
   "attachments": {
    "task2_2.png": {
     "image/png": "[encoded data removed]"
    }
   },
   "cell_type": "markdown",
   "id": "4c516953",
   "metadata": {},
   "source": [
    "Відповідь буде:\n",
    "![task2_2.png](attachment:task2_2.png)"
   ]
  },
  {
   "cell_type": "code",
   "execution_count": 9,
   "id": "888541be",
   "metadata": {},
   "outputs": [],
   "source": [
    "na_number = pd.DataFrame({'client_id': [np.nan, 3998.0, np.nan, np.nan, 5736.0] \\\n",
    "             ,'sex': [np.nan, 1.0, np.nan, np.nan, 0.0] \\\n",
    "             ,'wealth': [np.nan, 'hight', np.nan, np.nan, 'hight'] \\\n",
    "             ,'age': [58, 55, 46, 23, 44]  \\\n",
    "             })"
   ]
  },
  {
   "cell_type": "code",
   "execution_count": 10,
   "id": "fcc4839c",
   "metadata": {},
   "outputs": [
    {
     "data": {
      "text/plain": [
       "client_id    3\n",
       "sex          3\n",
       "wealth       3\n",
       "age          0\n",
       "dtype: int64"
      ]
     },
     "execution_count": 10,
     "metadata": {},
     "output_type": "execute_result"
    }
   ],
   "source": [
    "na_number.isna().sum()"
   ]
  },
  {
   "cell_type": "markdown",
   "id": "dba00f57",
   "metadata": {},
   "source": [
    "3. Збережіть у змінну df_types типи даних кожної колонки датафрейму df."
   ]
  },
  {
   "cell_type": "code",
   "execution_count": 11,
   "id": "a799f0f5",
   "metadata": {},
   "outputs": [],
   "source": [
    "df_types = na_number.dtypes"
   ]
  },
  {
   "cell_type": "code",
   "execution_count": 12,
   "id": "b6d72155",
   "metadata": {},
   "outputs": [
    {
     "data": {
      "text/plain": [
       "client_id    float64\n",
       "sex          float64\n",
       "wealth        object\n",
       "age            int64\n",
       "dtype: object"
      ]
     },
     "execution_count": 12,
     "metadata": {},
     "output_type": "execute_result"
    }
   ],
   "source": [
    "df_types"
   ]
  },
  {
   "cell_type": "markdown",
   "id": "10874e11",
   "metadata": {},
   "source": [
    "4. Несподівано виявилося, що у змінній age значення зберігаються у вигляді рядків! Змініть тип значень на цілий у цій колонці датафрейму df."
   ]
  },
  {
   "cell_type": "code",
   "execution_count": 13,
   "id": "4877dc69",
   "metadata": {},
   "outputs": [
    {
     "data": {
      "text/html": [
       "<div>\n",
       "<style scoped>\n",
       "    .dataframe tbody tr th:only-of-type {\n",
       "        vertical-align: middle;\n",
       "    }\n",
       "\n",
       "    .dataframe tbody tr th {\n",
       "        vertical-align: top;\n",
       "    }\n",
       "\n",
       "    .dataframe thead th {\n",
       "        text-align: right;\n",
       "    }\n",
       "</style>\n",
       "<table border=\"1\" class=\"dataframe\">\n",
       "  <thead>\n",
       "    <tr style=\"text-align: right;\">\n",
       "      <th></th>\n",
       "      <th>client_id</th>\n",
       "      <th>sex</th>\n",
       "      <th>wealth</th>\n",
       "      <th>age</th>\n",
       "    </tr>\n",
       "  </thead>\n",
       "  <tbody>\n",
       "    <tr>\n",
       "      <th>0</th>\n",
       "      <td>NaN</td>\n",
       "      <td>NaN</td>\n",
       "      <td>NaN</td>\n",
       "      <td>58.0</td>\n",
       "    </tr>\n",
       "    <tr>\n",
       "      <th>1</th>\n",
       "      <td>3998.0</td>\n",
       "      <td>1.0</td>\n",
       "      <td>hight</td>\n",
       "      <td>55.0</td>\n",
       "    </tr>\n",
       "    <tr>\n",
       "      <th>2</th>\n",
       "      <td>NaN</td>\n",
       "      <td>NaN</td>\n",
       "      <td>NaN</td>\n",
       "      <td>46.0</td>\n",
       "    </tr>\n",
       "    <tr>\n",
       "      <th>3</th>\n",
       "      <td>NaN</td>\n",
       "      <td>NaN</td>\n",
       "      <td>NaN</td>\n",
       "      <td>23.0</td>\n",
       "    </tr>\n",
       "    <tr>\n",
       "      <th>4</th>\n",
       "      <td>5736.0</td>\n",
       "      <td>0.0</td>\n",
       "      <td>hight</td>\n",
       "      <td>44.0</td>\n",
       "    </tr>\n",
       "  </tbody>\n",
       "</table>\n",
       "</div>"
      ],
      "text/plain": [
       "   client_id  sex wealth   age\n",
       "0        NaN  NaN    NaN  58.0\n",
       "1     3998.0  1.0  hight  55.0\n",
       "2        NaN  NaN    NaN  46.0\n",
       "3        NaN  NaN    NaN  23.0\n",
       "4     5736.0  0.0  hight  44.0"
      ]
     },
     "execution_count": 13,
     "metadata": {},
     "output_type": "execute_result"
    }
   ],
   "source": [
    "na_number.astype({'age': 'float64'})"
   ]
  },
  {
   "cell_type": "markdown",
   "id": "1f1b6e13",
   "metadata": {},
   "source": [
    "5. Як з'ясувалося, для подальшого аналізу нам не знадобляться колонки sex та age – видаліть їх з датафрейму."
   ]
  },
  {
   "cell_type": "code",
   "execution_count": 14,
   "id": "c0fa37f0",
   "metadata": {},
   "outputs": [],
   "source": [
    "na_number.drop(['sex','age'], axis=1, inplace=True)"
   ]
  },
  {
   "cell_type": "code",
   "execution_count": 15,
   "id": "7c358908",
   "metadata": {},
   "outputs": [
    {
     "data": {
      "text/html": [
       "<div>\n",
       "<style scoped>\n",
       "    .dataframe tbody tr th:only-of-type {\n",
       "        vertical-align: middle;\n",
       "    }\n",
       "\n",
       "    .dataframe tbody tr th {\n",
       "        vertical-align: top;\n",
       "    }\n",
       "\n",
       "    .dataframe thead th {\n",
       "        text-align: right;\n",
       "    }\n",
       "</style>\n",
       "<table border=\"1\" class=\"dataframe\">\n",
       "  <thead>\n",
       "    <tr style=\"text-align: right;\">\n",
       "      <th></th>\n",
       "      <th>client_id</th>\n",
       "      <th>wealth</th>\n",
       "    </tr>\n",
       "  </thead>\n",
       "  <tbody>\n",
       "    <tr>\n",
       "      <th>0</th>\n",
       "      <td>NaN</td>\n",
       "      <td>NaN</td>\n",
       "    </tr>\n",
       "    <tr>\n",
       "      <th>1</th>\n",
       "      <td>3998.0</td>\n",
       "      <td>hight</td>\n",
       "    </tr>\n",
       "    <tr>\n",
       "      <th>2</th>\n",
       "      <td>NaN</td>\n",
       "      <td>NaN</td>\n",
       "    </tr>\n",
       "    <tr>\n",
       "      <th>3</th>\n",
       "      <td>NaN</td>\n",
       "      <td>NaN</td>\n",
       "    </tr>\n",
       "    <tr>\n",
       "      <th>4</th>\n",
       "      <td>5736.0</td>\n",
       "      <td>hight</td>\n",
       "    </tr>\n",
       "  </tbody>\n",
       "</table>\n",
       "</div>"
      ],
      "text/plain": [
       "   client_id wealth\n",
       "0        NaN    NaN\n",
       "1     3998.0  hight\n",
       "2        NaN    NaN\n",
       "3        NaN    NaN\n",
       "4     5736.0  hight"
      ]
     },
     "execution_count": 15,
     "metadata": {},
     "output_type": "execute_result"
    }
   ],
   "source": [
    "na_number"
   ]
  },
  {
   "cell_type": "markdown",
   "id": "4365ee74",
   "metadata": {},
   "source": [
    "6. А тепер перевіримо, чи є в нашій таблиці df дублікати по полю client_id – драпніть усі рядки, у яких значення у колонці client_id повторюються."
   ]
  },
  {
   "cell_type": "code",
   "execution_count": 16,
   "id": "5bb33f05",
   "metadata": {},
   "outputs": [
    {
     "data": {
      "text/html": [
       "<div>\n",
       "<style scoped>\n",
       "    .dataframe tbody tr th:only-of-type {\n",
       "        vertical-align: middle;\n",
       "    }\n",
       "\n",
       "    .dataframe tbody tr th {\n",
       "        vertical-align: top;\n",
       "    }\n",
       "\n",
       "    .dataframe thead th {\n",
       "        text-align: right;\n",
       "    }\n",
       "</style>\n",
       "<table border=\"1\" class=\"dataframe\">\n",
       "  <thead>\n",
       "    <tr style=\"text-align: right;\">\n",
       "      <th></th>\n",
       "      <th>client_id</th>\n",
       "      <th>wealth</th>\n",
       "    </tr>\n",
       "  </thead>\n",
       "  <tbody>\n",
       "    <tr>\n",
       "      <th>0</th>\n",
       "      <td>NaN</td>\n",
       "      <td>NaN</td>\n",
       "    </tr>\n",
       "    <tr>\n",
       "      <th>1</th>\n",
       "      <td>3998.0</td>\n",
       "      <td>hight</td>\n",
       "    </tr>\n",
       "    <tr>\n",
       "      <th>4</th>\n",
       "      <td>5736.0</td>\n",
       "      <td>hight</td>\n",
       "    </tr>\n",
       "  </tbody>\n",
       "</table>\n",
       "</div>"
      ],
      "text/plain": [
       "   client_id wealth\n",
       "0        NaN    NaN\n",
       "1     3998.0  hight\n",
       "4     5736.0  hight"
      ]
     },
     "execution_count": 16,
     "metadata": {},
     "output_type": "execute_result"
    }
   ],
   "source": [
    "na_number.drop_duplicates(subset=['client_id'])"
   ]
  },
  {
   "cell_type": "markdown",
   "id": "d826e827",
   "metadata": {},
   "source": [
    "7. Невелика перерва на чистий пітон. У списку numbers містяться цифри. Додайте через цикл до списку positive_numbers позитивні числа з numbers. При цьому якщо вам попався 0, то потрібно припинити цей цикл.\n",
    "Наприклад:\n",
    "numbers = [1, -2, 3, 0, -3, 2]\n",
    "Тоді positive_numbers має бути:\n",
    "positive_numbers = [1, 3]"
   ]
  },
  {
   "cell_type": "code",
   "execution_count": 17,
   "id": "0614ef30",
   "metadata": {},
   "outputs": [],
   "source": [
    "numbers = [1, -2, 3, 0, -3, 2]\n",
    "positive_numbers = []"
   ]
  },
  {
   "cell_type": "code",
   "execution_count": 18,
   "id": "89eaa377",
   "metadata": {},
   "outputs": [],
   "source": [
    "for i in numbers:\n",
    "    if i > 0:\n",
    "        positive_numbers.append(i)\n",
    "    elif i < 0:\n",
    "        continue\n",
    "    elif i == 0:\n",
    "        break"
   ]
  },
  {
   "cell_type": "code",
   "execution_count": 19,
   "id": "7efa5f21",
   "metadata": {},
   "outputs": [
    {
     "data": {
      "text/plain": [
       "[1, 3]"
      ]
     },
     "execution_count": 19,
     "metadata": {},
     "output_type": "execute_result"
    }
   ],
   "source": [
    "positive_numbers"
   ]
  },
  {
   "cell_type": "markdown",
   "id": "7a443566",
   "metadata": {},
   "source": [
    "8. Продовжимо аналіз даних щодо поїздок. У попередньому уроці ви вивчили розподіл оцінок водіїв та клієнтів. Тепер подивимось на колонки з часом!\n",
    "Збережіть дані, що знаходяться в папці (taxi_peru.csv), у змінну taxi, роздільник – ;. Потім наведіть стовпці start_at, end_at, arrived_at до формату дати, використовуючи pd.to_datetime(). Відфільтруйте дані та залиште спостереження зі статусом замовлення \"asap\" та \"reserved\" (start_type)."
   ]
  },
  {
   "cell_type": "code",
   "execution_count": 20,
   "id": "7202c618",
   "metadata": {},
   "outputs": [],
   "source": [
    "taxi[['start_at','end_at','arrived_at']] = taxi[['start_at','end_at','arrived_at']].apply(pd.to_datetime)"
   ]
  },
  {
   "cell_type": "code",
   "execution_count": 21,
   "id": "1d291460",
   "metadata": {},
   "outputs": [],
   "source": [
    "taxi = taxi.query('start_type == \"asap\" or start_type == \"reserved\"')"
   ]
  },
  {
   "cell_type": "markdown",
   "id": "c6f59834",
   "metadata": {},
   "source": [
    "9. ⭐️Завдання зі зірочкою!⭐️\n",
    "Створіть колонку wait_time, в якій зберігатиметься різниця між часом подачі машини (arrived_at) та часом замовлення (start_at) у хвилинах. Щоб конвертувати отриманий результат у хвилини, можна використовувати метод .astype('timedelta64[m]')"
   ]
  },
  {
   "cell_type": "code",
   "execution_count": 22,
   "id": "58b46b45",
   "metadata": {},
   "outputs": [],
   "source": [
    "taxi['wait_time'] = (taxi.arrived_at - taxi.start_at).astype('timedelta64[m]')"
   ]
  },
  {
   "cell_type": "markdown",
   "id": "0cdcddf2",
   "metadata": {},
   "source": [
    "9.1. ⭐️Завдання зі зірочкою!⭐️\n",
    "Подивимося, які водії запізнювалися на замовлення до певного часу (start_type == 'reserved'). Запізненням є час очікування wait_time > 0.0.\n",
    "Згрупуйте відфільтровані дані по driver_id і в якості відповіді вкажіть id водія, який спізнився на замовлення типу, що цікавить нас, найбільше число разів."
   ]
  },
  {
   "cell_type": "code",
   "execution_count": 23,
   "id": "1d8af674",
   "metadata": {},
   "outputs": [
    {
     "data": {
      "text/plain": [
       "late_numbers    406921adcca37705ef527b4246c0cfea\n",
       "dtype: object"
      ]
     },
     "execution_count": 23,
     "metadata": {},
     "output_type": "execute_result"
    }
   ],
   "source": [
    "taxi.query('start_type == \"reserved\" and wait_time > 0.0') \\\n",
    "    .groupby(['driver_id']) \\\n",
    "    .agg({'taxi_id': 'count'}) \\\n",
    "    .rename(columns={'taxi_id': 'late_numbers'}) \\\n",
    "    .idxmax()"
   ]
  },
  {
   "cell_type": "code",
   "execution_count": 24,
   "id": "e6e48d0e",
   "metadata": {},
   "outputs": [
    {
     "data": {
      "text/plain": [
       "'406921adcca37705ef527b4246c0cfea'"
      ]
     },
     "execution_count": 24,
     "metadata": {},
     "output_type": "execute_result"
    }
   ],
   "source": [
    "taxi.query('start_type == \"reserved\" and wait_time > 0.0') \\\n",
    "    .driver_id \\\n",
    "    .value_counts() \\\n",
    "    .idxmax()"
   ]
  },
  {
   "cell_type": "markdown",
   "id": "07ad774c",
   "metadata": {},
   "source": [
    "10. ⭐️Завдання зі зірочкою!⭐️\n",
    "Додайте стовпець month, де зберігатиметься місяць, в якому було зроблено замовлення (start_at), як номер, і стовпець weekday – назва дня тижня."
   ]
  },
  {
   "cell_type": "code",
   "execution_count": 25,
   "id": "591706d5",
   "metadata": {},
   "outputs": [],
   "source": [
    "taxi['month'] = taxi.start_at.dt.month"
   ]
  },
  {
   "cell_type": "code",
   "execution_count": 26,
   "id": "09cc4ae2",
   "metadata": {},
   "outputs": [],
   "source": [
    "taxi['weekday'] = taxi.start_at.dt.day_name()"
   ]
  },
  {
   "cell_type": "code",
   "execution_count": 27,
   "id": "46203bb3",
   "metadata": {},
   "outputs": [],
   "source": [
    "taxi['month_name'] = taxi.start_at.dt.month_name()"
   ]
  },
  {
   "cell_type": "code",
   "execution_count": null,
   "id": "3532d170",
   "metadata": {},
   "outputs": [],
   "source": [
    "# taxi.start_at.dt.weekday #день недели\n",
    "# taxi.start_at.dt.week #неделя с начала года\n",
    "# taxi.start_at.dt.day_name() #имя дня недели\n",
    "# taxi.start_at.dt.strftime('%A') #имя дня недели\n",
    "# taxi.start_at.dt.month_name() #имя месяца"
   ]
  },
  {
   "cell_type": "markdown",
   "id": "634670e7",
   "metadata": {},
   "source": [
    "11. ⭐️Завдання зі зірочкою!⭐️\n",
    "Побудуйте графік числа замовлень за місяцями (month). Подумайте, із чим може бути пов'язана отримана картина.\n",
    "Питання: в якому літньому місяці було зроблено найменшу кількість замовлень? Як відповідь введіть номер місяця (6, 7 або 8)."
   ]
  },
  {
   "cell_type": "code",
   "execution_count": 28,
   "id": "fc7f8ab2",
   "metadata": {},
   "outputs": [],
   "source": [
    "number_of_orders = taxi.query('end_state == \"drop off\"') \\\n",
    "    .groupby(['month','month_name'], as_index=False) \\\n",
    "    .agg({'end_state': 'count'}) \\\n",
    "    .rename(columns={'end_state': 'number_of_orders'}) \\\n",
    "    .sort_values('month')"
   ]
  },
  {
   "cell_type": "code",
   "execution_count": 29,
   "id": "4a9f7c71",
   "metadata": {},
   "outputs": [
    {
     "data": {
      "image/png": "[encoded data removed]",
      "text/plain": [
       "<Figure size 864x360 with 1 Axes>"
      ]
     },
     "metadata": {
      "needs_background": "light"
     },
     "output_type": "display_data"
    }
   ],
   "source": [
    "plt.figure(figsize=(12, 5))\n",
    "sns.barplot(x='month' \\\n",
    "            ,y='number_of_orders' \\\n",
    "            ,data=number_of_orders \\\n",
    "            ,color='#74c476' \\\n",
    "           )\n",
    "plt.title('number_of_orders')\n",
    "sns.despine()"
   ]
  },
  {
   "cell_type": "code",
   "execution_count": 30,
   "id": "114fd851",
   "metadata": {},
   "outputs": [
    {
     "data": {
      "image/png": "[encoded data removed]",
      "text/plain": [
       "<Figure size 864x360 with 1 Axes>"
      ]
     },
     "metadata": {
      "needs_background": "light"
     },
     "output_type": "display_data"
    }
   ],
   "source": [
    "plt.figure(figsize=(12, 5))\n",
    "sns.countplot(x=taxi.month)\n",
    "sns.despine()"
   ]
  },
  {
   "cell_type": "markdown",
   "id": "7ffef954",
   "metadata": {},
   "source": [
    "12. ⭐️Завдання зі зірочкою!⭐️\n",
    "А тепер – графік по дня тижня (weekday). Задати порядок стовпчиків на графіку можна за допомогою аргументу order, якому потрібно передати список назв у потрібному порядку. Наприклад:\n",
    "sns.countplot(data['column'], order=['One', 'Two', 'Three'])\n",
    "Питання: в який день тижня сумарно надійшло найменше замовлень?"
   ]
  },
  {
   "cell_type": "code",
   "execution_count": 31,
   "id": "26a2c420",
   "metadata": {},
   "outputs": [
    {
     "data": {
      "image/png": "[encoded data removed]",
      "text/plain": [
       "<Figure size 864x360 with 1 Axes>"
      ]
     },
     "metadata": {
      "needs_background": "light"
     },
     "output_type": "display_data"
    }
   ],
   "source": [
    "plt.figure(figsize=(12, 5))\n",
    "sns.countplot(x='weekday',\n",
    "              data=taxi,\n",
    "              order=['Monday', 'Tuesday', 'Wednesday', 'Saturday', 'Friday', 'Sunday'],\n",
    "              hue='start_type',\n",
    "              palette=['#5ab4ac', '#d8b365'])\n",
    "plt.title('number of orders by day of the week')\n",
    "sns.despine()"
   ]
  },
  {
   "cell_type": "markdown",
   "id": "dbe86e0c",
   "metadata": {},
   "source": [
    "13. ⭐️Завдання зі зірочкою!⭐️\n",
    "Також ми можемо подивитися на кілька простих метрик, які показують кількість унікальних користувачів за певний період:\n",
    "DAU (daily active users) – кількість унікальних користувачів за день\n",
    "WAU (weekly active users) – кількість унікальних користувачів за тиждень\n",
    "MAU (monthly active users) – кількість унікальних користувачів за місяць\n",
    "Активні користувачі – ті, хто скористався програмою та зробив хоча б одне замовлення за вибраний проміжок часу. Побудуйте графік MAU та виберіть правильні твердження.\n",
    "Можуть стати в нагоді:\n",
    "groupby – угруповання\n",
    "nunique – кількість унікальних значень\n",
    "plot.line – лінійна діаграма"
   ]
  },
  {
   "cell_type": "code",
   "execution_count": 32,
   "id": "e4492870",
   "metadata": {},
   "outputs": [
    {
     "data": {
      "text/html": [
       "<div>\n",
       "<style scoped>\n",
       "    .dataframe tbody tr th:only-of-type {\n",
       "        vertical-align: middle;\n",
       "    }\n",
       "\n",
       "    .dataframe tbody tr th {\n",
       "        vertical-align: top;\n",
       "    }\n",
       "\n",
       "    .dataframe thead th {\n",
       "        text-align: right;\n",
       "    }\n",
       "</style>\n",
       "<table border=\"1\" class=\"dataframe\">\n",
       "  <thead>\n",
       "    <tr style=\"text-align: right;\">\n",
       "      <th></th>\n",
       "      <th>journey_id</th>\n",
       "      <th>user_id</th>\n",
       "      <th>driver_id</th>\n",
       "      <th>taxi_id</th>\n",
       "      <th>icon</th>\n",
       "      <th>start_type</th>\n",
       "      <th>start_at</th>\n",
       "      <th>start_lat</th>\n",
       "      <th>start_lon</th>\n",
       "      <th>end_at</th>\n",
       "      <th>...</th>\n",
       "      <th>driver_start_lat</th>\n",
       "      <th>driver_start_lon</th>\n",
       "      <th>arrived_at</th>\n",
       "      <th>source</th>\n",
       "      <th>driver_score</th>\n",
       "      <th>rider_score</th>\n",
       "      <th>wait_time</th>\n",
       "      <th>month</th>\n",
       "      <th>weekday</th>\n",
       "      <th>month_name</th>\n",
       "    </tr>\n",
       "  </thead>\n",
       "  <tbody>\n",
       "    <tr>\n",
       "      <th>0</th>\n",
       "      <td>23a1406fc6a11d866e3c82f22eed4d4c</td>\n",
       "      <td>0e9af5bbf1edfe591b54ecdfd7e91e26</td>\n",
       "      <td>583949a89a9ee17d19e3ca4f137b6b4c</td>\n",
       "      <td>b12f4f09c783e29fe0d0ea624530db56</td>\n",
       "      <td>executive</td>\n",
       "      <td>asap</td>\n",
       "      <td>2010-11-16 16:44:00</td>\n",
       "      <td>-12,13983536</td>\n",
       "      <td>-77,02355957</td>\n",
       "      <td>2010-11-16 17:29:00</td>\n",
       "      <td>...</td>\n",
       "      <td>-12,10825481</td>\n",
       "      <td>-77,0272739</td>\n",
       "      <td>2010-11-16 17:02:00</td>\n",
       "      <td>iPhone</td>\n",
       "      <td>5.0</td>\n",
       "      <td>5.0</td>\n",
       "      <td>18.0</td>\n",
       "      <td>11</td>\n",
       "      <td>Tuesday</td>\n",
       "      <td>November</td>\n",
       "    </tr>\n",
       "    <tr>\n",
       "      <th>1</th>\n",
       "      <td>dd2af4715d0dc16eded53afc0e243577</td>\n",
       "      <td>a553c46e3a22fb9c326aeb3d72b3334e</td>\n",
       "      <td>NaN</td>\n",
       "      <td>NaN</td>\n",
       "      <td>executive</td>\n",
       "      <td>asap</td>\n",
       "      <td>2010-06-01 00:34:00</td>\n",
       "      <td>-12,13874817</td>\n",
       "      <td>-76,99536133</td>\n",
       "      <td>2010-06-01 00:37:00</td>\n",
       "      <td>...</td>\n",
       "      <td>NaN</td>\n",
       "      <td>NaN</td>\n",
       "      <td>NaT</td>\n",
       "      <td>iPhone</td>\n",
       "      <td>NaN</td>\n",
       "      <td>NaN</td>\n",
       "      <td>NaN</td>\n",
       "      <td>6</td>\n",
       "      <td>Tuesday</td>\n",
       "      <td>June</td>\n",
       "    </tr>\n",
       "    <tr>\n",
       "      <th>2</th>\n",
       "      <td>dd91e131888064bf7df3ce08f3d4b4ad</td>\n",
       "      <td>a553c46e3a22fb9c326aeb3d72b3334e</td>\n",
       "      <td>NaN</td>\n",
       "      <td>NaN</td>\n",
       "      <td>executive</td>\n",
       "      <td>asap</td>\n",
       "      <td>2010-05-31 05:01:00</td>\n",
       "      <td>-12,12453079</td>\n",
       "      <td>-77,02780151</td>\n",
       "      <td>2010-05-31 05:04:00</td>\n",
       "      <td>...</td>\n",
       "      <td>NaN</td>\n",
       "      <td>NaN</td>\n",
       "      <td>NaT</td>\n",
       "      <td>iPhone</td>\n",
       "      <td>NaN</td>\n",
       "      <td>NaN</td>\n",
       "      <td>NaN</td>\n",
       "      <td>5</td>\n",
       "      <td>Monday</td>\n",
       "      <td>May</td>\n",
       "    </tr>\n",
       "    <tr>\n",
       "      <th>3</th>\n",
       "      <td>dd2af4715d0dc16eded53afc0e2466d0</td>\n",
       "      <td>a553c46e3a22fb9c326aeb3d72b3334e</td>\n",
       "      <td>NaN</td>\n",
       "      <td>NaN</td>\n",
       "      <td>executive</td>\n",
       "      <td>asap</td>\n",
       "      <td>2010-06-01 00:29:00</td>\n",
       "      <td>-12,13885117</td>\n",
       "      <td>-76,99530029</td>\n",
       "      <td>2010-06-01 00:32:00</td>\n",
       "      <td>...</td>\n",
       "      <td>NaN</td>\n",
       "      <td>NaN</td>\n",
       "      <td>NaT</td>\n",
       "      <td>iPhone</td>\n",
       "      <td>NaN</td>\n",
       "      <td>NaN</td>\n",
       "      <td>NaN</td>\n",
       "      <td>6</td>\n",
       "      <td>Tuesday</td>\n",
       "      <td>June</td>\n",
       "    </tr>\n",
       "    <tr>\n",
       "      <th>4</th>\n",
       "      <td>85b7eabcf5d84e42dc7629b7d27781af</td>\n",
       "      <td>56772d544fdfa589a020a1ff894a86f7</td>\n",
       "      <td>d665fb9f75ef5d9cd0fd89479380ba78</td>\n",
       "      <td>0accdd3aa5a322f4129fa20b53278c69</td>\n",
       "      <td>executive</td>\n",
       "      <td>reserved</td>\n",
       "      <td>2010-09-11 23:55:00</td>\n",
       "      <td>-12,08995438</td>\n",
       "      <td>-76,92626953</td>\n",
       "      <td>2010-09-12 01:07:00</td>\n",
       "      <td>...</td>\n",
       "      <td>-12,08311558</td>\n",
       "      <td>-76,9277072</td>\n",
       "      <td>2010-09-11 23:50:00</td>\n",
       "      <td>iPhone</td>\n",
       "      <td>4.0</td>\n",
       "      <td>5.0</td>\n",
       "      <td>-5.0</td>\n",
       "      <td>9</td>\n",
       "      <td>Saturday</td>\n",
       "      <td>September</td>\n",
       "    </tr>\n",
       "  </tbody>\n",
       "</table>\n",
       "<p>5 rows × 23 columns</p>\n",
       "</div>"
      ],
      "text/plain": [
       "                         journey_id                           user_id  \\\n",
       "0  23a1406fc6a11d866e3c82f22eed4d4c  0e9af5bbf1edfe591b54ecdfd7e91e26   \n",
       "1  dd2af4715d0dc16eded53afc0e243577  a553c46e3a22fb9c326aeb3d72b3334e   \n",
       "2  dd91e131888064bf7df3ce08f3d4b4ad  a553c46e3a22fb9c326aeb3d72b3334e   \n",
       "3  dd2af4715d0dc16eded53afc0e2466d0  a553c46e3a22fb9c326aeb3d72b3334e   \n",
       "4  85b7eabcf5d84e42dc7629b7d27781af  56772d544fdfa589a020a1ff894a86f7   \n",
       "\n",
       "                          driver_id                           taxi_id  \\\n",
       "0  583949a89a9ee17d19e3ca4f137b6b4c  b12f4f09c783e29fe0d0ea624530db56   \n",
       "1                               NaN                               NaN   \n",
       "2                               NaN                               NaN   \n",
       "3                               NaN                               NaN   \n",
       "4  d665fb9f75ef5d9cd0fd89479380ba78  0accdd3aa5a322f4129fa20b53278c69   \n",
       "\n",
       "        icon start_type            start_at     start_lat     start_lon  \\\n",
       "0  executive       asap 2010-11-16 16:44:00  -12,13983536  -77,02355957   \n",
       "1  executive       asap 2010-06-01 00:34:00  -12,13874817  -76,99536133   \n",
       "2  executive       asap 2010-05-31 05:01:00  -12,12453079  -77,02780151   \n",
       "3  executive       asap 2010-06-01 00:29:00  -12,13885117  -76,99530029   \n",
       "4  executive   reserved 2010-09-11 23:55:00  -12,08995438  -76,92626953   \n",
       "\n",
       "               end_at  ... driver_start_lat driver_start_lon  \\\n",
       "0 2010-11-16 17:29:00  ...     -12,10825481      -77,0272739   \n",
       "1 2010-06-01 00:37:00  ...              NaN              NaN   \n",
       "2 2010-05-31 05:04:00  ...              NaN              NaN   \n",
       "3 2010-06-01 00:32:00  ...              NaN              NaN   \n",
       "4 2010-09-12 01:07:00  ...     -12,08311558      -76,9277072   \n",
       "\n",
       "           arrived_at  source driver_score rider_score wait_time  month  \\\n",
       "0 2010-11-16 17:02:00  iPhone          5.0         5.0      18.0     11   \n",
       "1                 NaT  iPhone          NaN         NaN       NaN      6   \n",
       "2                 NaT  iPhone          NaN         NaN       NaN      5   \n",
       "3                 NaT  iPhone          NaN         NaN       NaN      6   \n",
       "4 2010-09-11 23:50:00  iPhone          4.0         5.0      -5.0      9   \n",
       "\n",
       "    weekday  month_name  \n",
       "0   Tuesday    November  \n",
       "1   Tuesday        June  \n",
       "2    Monday         May  \n",
       "3   Tuesday        June  \n",
       "4  Saturday   September  \n",
       "\n",
       "[5 rows x 23 columns]"
      ]
     },
     "execution_count": 32,
     "metadata": {},
     "output_type": "execute_result"
    }
   ],
   "source": [
    "taxi.head()"
   ]
  },
  {
   "cell_type": "code",
   "execution_count": 33,
   "id": "09daef40",
   "metadata": {},
   "outputs": [],
   "source": [
    "mau = taxi.groupby('month') \\\n",
    "    .agg({'user_id': pd.Series.nunique})"
   ]
  },
  {
   "cell_type": "code",
   "execution_count": 34,
   "id": "af959b93",
   "metadata": {},
   "outputs": [
    {
     "data": {
      "text/plain": [
       "<AxesSubplot: xlabel='month'>"
      ]
     },
     "execution_count": 34,
     "metadata": {},
     "output_type": "execute_result"
    },
    {
     "data": {
      "image/png": "[encoded data removed]",
      "text/plain": [
       "<Figure size 864x360 with 1 Axes>"
      ]
     },
     "metadata": {
      "needs_background": "light"
     },
     "output_type": "display_data"
    }
   ],
   "source": [
    "mau.plot(figsize=(12, 5))"
   ]
  },
  {
   "cell_type": "code",
   "execution_count": 35,
   "id": "b5945082",
   "metadata": {},
   "outputs": [],
   "source": [
    "xticks = range(1,13)"
   ]
  },
  {
   "cell_type": "code",
   "execution_count": 36,
   "id": "0723582e",
   "metadata": {},
   "outputs": [
    {
     "name": "stderr",
     "output_type": "stream",
     "text": [
      "C:\\Users\\m.semchenko\\AppData\\Local\\Temp\\ipykernel_10148\\3593417845.py:2: UserWarning: The markers list has more values (2) than needed (1), which may not be intended.\n",
      "  sns.lineplot(data=mau\n"
     ]
    },
    {
     "data": {
      "image/png": "[encoded data removed]",
      "text/plain": [
       "<Figure size 864x360 with 1 Axes>"
      ]
     },
     "metadata": {
      "needs_background": "light"
     },
     "output_type": "display_data"
    }
   ],
   "source": [
    "plt.figure(figsize=(12, 5))\n",
    "sns.lineplot(data=mau\n",
    "            ,markers='o-')\n",
    "plt.title('MAU')\n",
    "sns.despine()\n",
    "plt.xticks(xticks);"
   ]
  }
 ],
 "metadata": {
  "kernelspec": {
   "display_name": "Python 3 (ipykernel)",
   "language": "python",
   "name": "python3"
  },
  "language_info": {
   "codemirror_mode": {
    "name": "ipython",
    "version": 3
   },
   "file_extension": ".py",
   "mimetype": "text/x-python",
   "name": "python",
   "nbconvert_exporter": "python",
   "pygments_lexer": "ipython3",
   "version": "3.9.4"
  }
 },
 "nbformat": 4,
 "nbformat_minor": 5
}
