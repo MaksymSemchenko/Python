{
 "cells": [
  {
   "cell_type": "markdown",
   "id": "e7b5fb27",
   "metadata": {},
   "source": [
    "1. Збережіть у змінну age довільний вік, виражений цілим числом, а в змінну name якесь ім'я у вигляді рядка"
   ]
  },
  {
   "cell_type": "code",
   "execution_count": 1,
   "id": "bb049d79-05c9-4fdc-9a48-dfe2dab1c419",
   "metadata": {},
   "outputs": [],
   "source": [
    "age = 33\n",
    "name = 'Maksym'"
   ]
  },
  {
   "cell_type": "markdown",
   "id": "f23eb9b9",
   "metadata": {},
   "source": [
    "2. Створіть список user_info, що містить 2 рядки (ім'я та прізвище користувача), 1 дробове число (зарплата) та 1 ціле число (стаж)"
   ]
  },
  {
   "cell_type": "code",
   "execution_count": 2,
   "id": "35cbee78-9ded-4533-87d3-9ddcae351fa5",
   "metadata": {},
   "outputs": [],
   "source": [
    "user_info = ['Maksym', 'Semchenko', 30150.50, 11]"
   ]
  },
  {
   "cell_type": "code",
   "execution_count": 3,
   "id": "eb36fef9-2dee-4764-a0e7-fc41ac4e6669",
   "metadata": {},
   "outputs": [
    {
     "data": {
      "text/plain": [
       "['Maksym', 'Semchenko', 30150.5, 11]"
      ]
     },
     "execution_count": 3,
     "metadata": {},
     "output_type": "execute_result"
    }
   ],
   "source": [
    "user_info"
   ]
  },
  {
   "cell_type": "markdown",
   "id": "86242e62",
   "metadata": {},
   "source": [
    "3. Помістіть у змінну перший (тобто нульовий) елемент зі списку salaries"
   ]
  },
  {
   "cell_type": "code",
   "execution_count": 4,
   "id": "e8e5410f-9c5a-4237-9de7-cfa093617ba4",
   "metadata": {},
   "outputs": [],
   "source": [
    "salaries = [1, 2, 3, 4, 5]\n",
    "first = salaries[0]"
   ]
  },
  {
   "cell_type": "code",
   "execution_count": 5,
   "id": "cc48fd2b-d4c3-47ad-9466-45fb391eff6a",
   "metadata": {},
   "outputs": [
    {
     "data": {
      "text/plain": [
       "1"
      ]
     },
     "execution_count": 5,
     "metadata": {},
     "output_type": "execute_result"
    }
   ],
   "source": [
    "first"
   ]
  },
  {
   "cell_type": "markdown",
   "id": "b21dc191",
   "metadata": {},
   "source": [
    "4. Додати до списку users елементи 'Voronov' і 42"
   ]
  },
  {
   "cell_type": "code",
   "execution_count": 6,
   "id": "ae1dae58-8f74-46f5-9337-00c10388a3d9",
   "metadata": {},
   "outputs": [],
   "source": [
    "users = ['Semchenko', 33]\n",
    "users.append('Voronov')\n",
    "users.append(42)"
   ]
  },
  {
   "cell_type": "code",
   "execution_count": 7,
   "id": "38a3a00a-4a26-48d1-850e-3ebdb320c5fd",
   "metadata": {},
   "outputs": [
    {
     "data": {
      "text/plain": [
       "['Semchenko', 33, 'Voronov', 42]"
      ]
     },
     "execution_count": 7,
     "metadata": {},
     "output_type": "execute_result"
    }
   ],
   "source": [
    "users"
   ]
  },
  {
   "cell_type": "markdown",
   "id": "3a23e4aa",
   "metadata": {},
   "source": [
    "5. У змінній user_ages міститься список вікових груп клієнтів. Напишіть петлю, що виводить на друк віку, які більше 18 Приклад даних, які можуть бути в user_ages.\n",
    "user_ages = [10, 18, 21, 35, 42, 27, 12, 16]"
   ]
  },
  {
   "cell_type": "code",
   "execution_count": 8,
   "id": "4c814711-1cfa-4500-bad1-c87174e5f0e3",
   "metadata": {},
   "outputs": [],
   "source": [
    "user_ages = [10, 18, 21, 35, 42, 27, 12, 16]"
   ]
  },
  {
   "cell_type": "code",
   "execution_count": 9,
   "id": "7bca7453",
   "metadata": {},
   "outputs": [
    {
     "name": "stdout",
     "output_type": "stream",
     "text": [
      "21\n",
      "35\n",
      "42\n",
      "27\n"
     ]
    }
   ],
   "source": [
    "for i in user_ages:\n",
    "    if i > 18:\n",
    "        print(i)"
   ]
  },
  {
   "cell_type": "markdown",
   "id": "9f2566ba",
   "metadata": {},
   "source": [
    "6. Напишіть програму, яка перевіряє стаж роботи працівника. У змінній worker міститься список, що містить значення як у 2-му завданні (ім'я, прізвище, зарплата, стаж). Помістіть у змінну status такий рядок:\n",
    "user_name, user_family is position\n",
    "де user_name і user_family - ім'я та прізвище співробітника, а position - один з наступних рядків:\n",
    "'junior' - стаж менше 2 років\n",
    "'middle' - стаж більше або дорівнює 2 років\n",
    "'senior' - стаж більше 5 років\n",
    "Приклад даних, які можуть бути у worker\n",
    "worker = ['Olya', 'Silyutina', 350000, 3]\n",
    "Hint: друкувати результат не потрібно, просто задайте його у змінну status"
   ]
  },
  {
   "cell_type": "code",
   "execution_count": 10,
   "id": "fa0a37f6-fe03-474d-940e-411294cda1e8",
   "metadata": {},
   "outputs": [],
   "source": [
    "worker = ['Olya', 'Silyutina', 35000, 3]\n",
    "expirience = worker[3]\n",
    "status = '{} {} is {}'"
   ]
  },
  {
   "cell_type": "code",
   "execution_count": 11,
   "id": "37652dfb",
   "metadata": {},
   "outputs": [
    {
     "data": {
      "text/plain": [
       "'Olya Silyutina is middle'"
      ]
     },
     "execution_count": 11,
     "metadata": {},
     "output_type": "execute_result"
    }
   ],
   "source": [
    "if expirience < 2:\n",
    "    position = 'junior'\n",
    "elif 2 <= expirience <= 5:\n",
    "    position = 'middle'\n",
    "else:\n",
    "    position = 'senior'\n",
    "status.format(worker[0], worker[1], position)"
   ]
  },
  {
   "cell_type": "markdown",
   "id": "fbf1c16b",
   "metadata": {},
   "source": [
    "7. У списку values містяться числові значення. Створіть список tens і додайте до нього всі числа з values, які діляться на 10 націло\n",
    "Приклад даних, які можуть бути у значеннях\n",
    "values = [12, 134, 10, 47, 100, 20, 50, 160, 210]"
   ]
  },
  {
   "cell_type": "code",
   "execution_count": 12,
   "id": "79c724fa-3e25-4473-a409-108a89b3cef4",
   "metadata": {},
   "outputs": [],
   "source": [
    "values = [12, 134, 10, 47, 100, 20, 50, 160, 210]\n",
    "tens = []"
   ]
  },
  {
   "cell_type": "code",
   "execution_count": 13,
   "id": "d419c4a3",
   "metadata": {},
   "outputs": [
    {
     "data": {
      "text/plain": [
       "[10, 100, 20, 50, 160, 210]"
      ]
     },
     "execution_count": 13,
     "metadata": {},
     "output_type": "execute_result"
    }
   ],
   "source": [
    "for i in values:\n",
    "  if i % 10 == 0:\n",
    "    tens.append(i)\n",
    "tens"
   ]
  },
  {
   "cell_type": "markdown",
   "id": "7dfeffb9",
   "metadata": {},
   "source": [
    "8. ⭐️ Завдання зі зірочкою! ⭐️\n",
    "Реалізуйте цикл, який пробігається по списку workers зі значеннями як у 2-му та 6-му завданнях, і виводить для кожного співробітника рядок (тобто друкує його для кожного елемента списку)\n",
    "user_name user_family is position\n",
    "де user_name і user_family - ім'я та прізвище співробітника, а position - один з наступних рядків\n",
    "'junior' - стаж менше 2 років\n",
    "'middle' - стаж більше або дорівнює 2 років\n",
    "'senior' - стаж більше 5 років\n",
    "Приклад даних, які можуть бути в workers\n",
    "workers = [['Ivan', 'Ivanov', 100000, 2], ['Petr', 'Petrov', 150000, 2], ['Sidor', 'Sidorov', 200000, 3]]\n",
    "Note: у цьому завданні потрібно друкувати ці рядки\n"
   ]
  },
  {
   "cell_type": "code",
   "execution_count": 14,
   "id": "212e3325-c180-4a73-a0e1-eba473c0648e",
   "metadata": {},
   "outputs": [],
   "source": [
    "workers = [['Olya', 'Silyutina', 35000, 3], \\\n",
    "          ['Maksym', 'Semchenko', 30150.50, 11], \\\n",
    "          ['Ivan', 'Ivanov', 100000, 2], \\\n",
    "          ['Petr', 'Petrov', 150000, 1], \\\n",
    "          ['Sidor', 'Sidorov', 200000, 3]]\n"
   ]
  },
  {
   "cell_type": "code",
   "execution_count": 15,
   "id": "399bd7c3-d1d7-44bc-9511-3bfe057e8926",
   "metadata": {},
   "outputs": [
    {
     "name": "stdout",
     "output_type": "stream",
     "text": [
      "Olya Silyutina is middle\n",
      "Maksym Semchenko is senior\n",
      "Ivan Ivanov is middle\n",
      "Petr Petrov is junior\n",
      "Sidor Sidorov is middle\n"
     ]
    }
   ],
   "source": [
    "for worker in workers:\n",
    "    expirience = worker[3]\n",
    "    status = '{} {} is {}'\n",
    "  \n",
    "    if expirience < 2:\n",
    "        position = 'junior'\n",
    "    elif 2 <= expirience <= 5:\n",
    "        position = 'middle'\n",
    "    else:\n",
    "        position = 'senior'\n",
    "    status = status.format(worker[0], worker[1], position)\n",
    "    print(status)"
   ]
  }
 ],
 "metadata": {
  "kernelspec": {
   "display_name": "Python 3 (ipykernel)",
   "language": "python",
   "name": "python3"
  },
  "language_info": {
   "codemirror_mode": {
    "name": "ipython",
    "version": 3
   },
   "file_extension": ".py",
   "mimetype": "text/x-python",
   "name": "python",
   "nbconvert_exporter": "python",
   "pygments_lexer": "ipython3",
   "version": "3.9.4"
  }
 },
 "nbformat": 4,
 "nbformat_minor": 5
}
