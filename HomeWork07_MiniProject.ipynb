{
 "cells": [
  {
   "cell_type": "markdown",
   "id": "4ee48fce",
   "metadata": {},
   "source": [
    "1. step_1_lesson_7.csv (https://drive.google.com/file/d/1lAeyJjdw5NTGNkGLL438FpX63uDPdtYL/view?usp=sharing)\n",
    "Для початку, давайте подивимося на розподіл відвідувань сайту щодня. Побудуйте графік із розподілом кількості відвідувань від ботів та звичайних користувачів."
   ]
  },
  {
   "cell_type": "code",
   "execution_count": 1,
   "id": "69b65cf9",
   "metadata": {},
   "outputs": [],
   "source": [
    "import pandas as pd\n",
    "import numpy as np\n",
    "import seaborn as sns\n",
    "import matplotlib.pyplot as plt\n",
    "import plotly.express as px\n",
    "from io import BytesIO\n",
    "import requests\n",
    "import gspread\n",
    "from df2gspread import df2gspread as d2g\n",
    "from oauth2client.service_account import ServiceAccountCredentials"
   ]
  },
  {
   "cell_type": "code",
   "execution_count": 2,
   "id": "047b8932",
   "metadata": {},
   "outputs": [],
   "source": [
    "step_1_lesson_7_url='https://drive.google.com/file/d/1lAeyJjdw5NTGNkGLL438FpX63uDPdtYL/view?usp=sharing'\n",
    "step_1_lesson_7_path='https://drive.google.com/uc?id=' + step_1_lesson_7_url.split('/')[-2]\n",
    "step_1_lesson_7 = pd.read_csv(step_1_lesson_7_path)"
   ]
  },
  {
   "cell_type": "code",
   "execution_count": 3,
   "id": "6e729f59",
   "metadata": {},
   "outputs": [
    {
     "data": {
      "text/html": [
       "<div>\n",
       "<style scoped>\n",
       "    .dataframe tbody tr th:only-of-type {\n",
       "        vertical-align: middle;\n",
       "    }\n",
       "\n",
       "    .dataframe tbody tr th {\n",
       "        vertical-align: top;\n",
       "    }\n",
       "\n",
       "    .dataframe thead th {\n",
       "        text-align: right;\n",
       "    }\n",
       "</style>\n",
       "<table border=\"1\" class=\"dataframe\">\n",
       "  <thead>\n",
       "    <tr style=\"text-align: right;\">\n",
       "      <th></th>\n",
       "      <th>date</th>\n",
       "      <th>user_type</th>\n",
       "      <th>visits</th>\n",
       "    </tr>\n",
       "  </thead>\n",
       "  <tbody>\n",
       "    <tr>\n",
       "      <th>0</th>\n",
       "      <td>2020-06-15</td>\n",
       "      <td>People</td>\n",
       "      <td>417.0</td>\n",
       "    </tr>\n",
       "    <tr>\n",
       "      <th>1</th>\n",
       "      <td>2020-06-15</td>\n",
       "      <td>Robots</td>\n",
       "      <td>177.0</td>\n",
       "    </tr>\n",
       "    <tr>\n",
       "      <th>2</th>\n",
       "      <td>2020-06-16</td>\n",
       "      <td>People</td>\n",
       "      <td>472.0</td>\n",
       "    </tr>\n",
       "    <tr>\n",
       "      <th>3</th>\n",
       "      <td>2020-06-16</td>\n",
       "      <td>Robots</td>\n",
       "      <td>91.0</td>\n",
       "    </tr>\n",
       "    <tr>\n",
       "      <th>4</th>\n",
       "      <td>2020-06-17</td>\n",
       "      <td>People</td>\n",
       "      <td>475.0</td>\n",
       "    </tr>\n",
       "  </tbody>\n",
       "</table>\n",
       "</div>"
      ],
      "text/plain": [
       "         date user_type  visits\n",
       "0  2020-06-15    People   417.0\n",
       "1  2020-06-15    Robots   177.0\n",
       "2  2020-06-16    People   472.0\n",
       "3  2020-06-16    Robots    91.0\n",
       "4  2020-06-17    People   475.0"
      ]
     },
     "execution_count": 3,
     "metadata": {},
     "output_type": "execute_result"
    }
   ],
   "source": [
    "step_1_lesson_7.head()"
   ]
  },
  {
   "cell_type": "code",
   "execution_count": 4,
   "id": "0edb15c2",
   "metadata": {},
   "outputs": [
    {
     "data": {
      "text/plain": [
       "<AxesSubplot: xlabel='date', ylabel='visits'>"
      ]
     },
     "execution_count": 4,
     "metadata": {},
     "output_type": "execute_result"
    },
    {
     "data": {
      "image/png": "[encoded data removed]",
      "text/plain": [
       "<Figure size 432x288 with 1 Axes>"
      ]
     },
     "metadata": {
      "needs_background": "light"
     },
     "output_type": "display_data"
    }
   ],
   "source": [
    "sns.set(style='whitegrid'\n",
    "       ,rc={'figure.figsize': (17, 7)})\n",
    "\n",
    "sns.barplot(x='date'\n",
    "            ,y='visits'\n",
    "            ,hue='user_type'\n",
    "            ,data=step_1_lesson_7)"
   ]
  },
  {
   "cell_type": "markdown",
   "id": "23e19d6c",
   "metadata": {},
   "source": [
    "2. step_2_lesson_7.csv (https://drive.google.com/file/d/1GJ3sDMJPEryow9ufG-QGwxFmygr1Wyvd/view?usp=sharing)\n",
    "Визначте відсоток відвідувань сайту із бразузера Google Chrome. Дані лежать тут.\n",
    "Відповідь округліть до цілого."
   ]
  },
  {
   "cell_type": "code",
   "execution_count": 5,
   "id": "9fc3eb12",
   "metadata": {},
   "outputs": [],
   "source": [
    "step_2_lesson_7_url='https://drive.google.com/file/d/1GJ3sDMJPEryow9ufG-QGwxFmygr1Wyvd/view?usp=sharing'\n",
    "step_2_lesson_7_path='https://drive.google.com/uc?id=' + step_2_lesson_7_url.split('/')[-2]\n",
    "step_2_lesson_7 = pd.read_csv(step_2_lesson_7_path)"
   ]
  },
  {
   "cell_type": "code",
   "execution_count": 6,
   "id": "9dd5b61c",
   "metadata": {},
   "outputs": [
    {
     "data": {
      "text/html": [
       "<div>\n",
       "<style scoped>\n",
       "    .dataframe tbody tr th:only-of-type {\n",
       "        vertical-align: middle;\n",
       "    }\n",
       "\n",
       "    .dataframe tbody tr th {\n",
       "        vertical-align: top;\n",
       "    }\n",
       "\n",
       "    .dataframe thead th {\n",
       "        text-align: right;\n",
       "    }\n",
       "</style>\n",
       "<table border=\"1\" class=\"dataframe\">\n",
       "  <thead>\n",
       "    <tr style=\"text-align: right;\">\n",
       "      <th></th>\n",
       "      <th>date</th>\n",
       "      <th>browser</th>\n",
       "      <th>visits</th>\n",
       "    </tr>\n",
       "  </thead>\n",
       "  <tbody>\n",
       "    <tr>\n",
       "      <th>0</th>\n",
       "      <td>2020-06-15</td>\n",
       "      <td>Google Chrome</td>\n",
       "      <td>354.0</td>\n",
       "    </tr>\n",
       "    <tr>\n",
       "      <th>1</th>\n",
       "      <td>2020-06-15</td>\n",
       "      <td>Firefox</td>\n",
       "      <td>58.0</td>\n",
       "    </tr>\n",
       "    <tr>\n",
       "      <th>2</th>\n",
       "      <td>2020-06-15</td>\n",
       "      <td>Yandex Browser</td>\n",
       "      <td>54.0</td>\n",
       "    </tr>\n",
       "    <tr>\n",
       "      <th>3</th>\n",
       "      <td>2020-06-15</td>\n",
       "      <td>Safari</td>\n",
       "      <td>41.0</td>\n",
       "    </tr>\n",
       "    <tr>\n",
       "      <th>4</th>\n",
       "      <td>2020-06-15</td>\n",
       "      <td>Chrome Mobile</td>\n",
       "      <td>31.0</td>\n",
       "    </tr>\n",
       "  </tbody>\n",
       "</table>\n",
       "</div>"
      ],
      "text/plain": [
       "         date         browser  visits\n",
       "0  2020-06-15   Google Chrome   354.0\n",
       "1  2020-06-15         Firefox    58.0\n",
       "2  2020-06-15  Yandex Browser    54.0\n",
       "3  2020-06-15          Safari    41.0\n",
       "4  2020-06-15   Chrome Mobile    31.0"
      ]
     },
     "execution_count": 6,
     "metadata": {},
     "output_type": "execute_result"
    }
   ],
   "source": [
    "step_2_lesson_7.head()"
   ]
  },
  {
   "cell_type": "code",
   "execution_count": 7,
   "id": "e559d37f",
   "metadata": {},
   "outputs": [],
   "source": [
    "step_2_lesson_7['percent'] = step_2_lesson_7.visits.div(step_2_lesson_7.visits.sum()).mul(100).round(0)"
   ]
  },
  {
   "cell_type": "code",
   "execution_count": 8,
   "id": "b5956fc1",
   "metadata": {},
   "outputs": [
    {
     "data": {
      "text/html": [
       "<div>\n",
       "<style scoped>\n",
       "    .dataframe tbody tr th:only-of-type {\n",
       "        vertical-align: middle;\n",
       "    }\n",
       "\n",
       "    .dataframe tbody tr th {\n",
       "        vertical-align: top;\n",
       "    }\n",
       "\n",
       "    .dataframe thead th {\n",
       "        text-align: right;\n",
       "    }\n",
       "</style>\n",
       "<table border=\"1\" class=\"dataframe\">\n",
       "  <thead>\n",
       "    <tr style=\"text-align: right;\">\n",
       "      <th></th>\n",
       "      <th>date</th>\n",
       "      <th>browser</th>\n",
       "      <th>visits</th>\n",
       "      <th>percent</th>\n",
       "    </tr>\n",
       "  </thead>\n",
       "  <tbody>\n",
       "    <tr>\n",
       "      <th>0</th>\n",
       "      <td>2020-06-15</td>\n",
       "      <td>Google Chrome</td>\n",
       "      <td>354.0</td>\n",
       "      <td>60.0</td>\n",
       "    </tr>\n",
       "  </tbody>\n",
       "</table>\n",
       "</div>"
      ],
      "text/plain": [
       "         date        browser  visits  percent\n",
       "0  2020-06-15  Google Chrome   354.0     60.0"
      ]
     },
     "execution_count": 8,
     "metadata": {},
     "output_type": "execute_result"
    }
   ],
   "source": [
    "step_2_lesson_7.query('browser == \"Google Chrome\"')"
   ]
  },
  {
   "cell_type": "markdown",
   "id": "26fdb66b",
   "metadata": {},
   "source": [
    "3. step_3_lesson_7.csv (https://drive.google.com/file/d/1YniSPBGWuQ5kbAnsUfae9DBLKGjHY2lF/view?usp=sharing)\n",
    "Давайте з'ясуємо, з якого браузера приходить найбільше роботів. Подивіться на дані та визначте, у якого браузера найбільша частка відвідувань сайту ботами від загальної кількості відвідувань?\n",
    "Як відповідь вкажіть назву браузера."
   ]
  },
  {
   "cell_type": "code",
   "execution_count": 9,
   "id": "2a8bcff0",
   "metadata": {},
   "outputs": [],
   "source": [
    "step_3_lesson_7_url='https://drive.google.com/file/d/1YniSPBGWuQ5kbAnsUfae9DBLKGjHY2lF/view?usp=sharing'\n",
    "step_3_lesson_7_path='https://drive.google.com/uc?id=' + step_3_lesson_7_url.split('/')[-2]\n",
    "step_3_lesson_7 = pd.read_csv(step_3_lesson_7_path)"
   ]
  },
  {
   "cell_type": "code",
   "execution_count": 10,
   "id": "2f9919be",
   "metadata": {},
   "outputs": [
    {
     "data": {
      "text/html": [
       "<div>\n",
       "<style scoped>\n",
       "    .dataframe tbody tr th:only-of-type {\n",
       "        vertical-align: middle;\n",
       "    }\n",
       "\n",
       "    .dataframe tbody tr th {\n",
       "        vertical-align: top;\n",
       "    }\n",
       "\n",
       "    .dataframe thead th {\n",
       "        text-align: right;\n",
       "    }\n",
       "</style>\n",
       "<table border=\"1\" class=\"dataframe\">\n",
       "  <thead>\n",
       "    <tr style=\"text-align: right;\">\n",
       "      <th></th>\n",
       "      <th>date</th>\n",
       "      <th>browser</th>\n",
       "      <th>user_type</th>\n",
       "      <th>visits</th>\n",
       "    </tr>\n",
       "  </thead>\n",
       "  <tbody>\n",
       "    <tr>\n",
       "      <th>0</th>\n",
       "      <td>2020-06-15</td>\n",
       "      <td>Google Chrome</td>\n",
       "      <td>People</td>\n",
       "      <td>250.0</td>\n",
       "    </tr>\n",
       "    <tr>\n",
       "      <th>1</th>\n",
       "      <td>2020-06-15</td>\n",
       "      <td>Google Chrome</td>\n",
       "      <td>Robots</td>\n",
       "      <td>104.0</td>\n",
       "    </tr>\n",
       "    <tr>\n",
       "      <th>2</th>\n",
       "      <td>2020-06-15</td>\n",
       "      <td>Yandex Browser</td>\n",
       "      <td>People</td>\n",
       "      <td>47.0</td>\n",
       "    </tr>\n",
       "    <tr>\n",
       "      <th>3</th>\n",
       "      <td>2020-06-15</td>\n",
       "      <td>Firefox</td>\n",
       "      <td>Robots</td>\n",
       "      <td>31.0</td>\n",
       "    </tr>\n",
       "    <tr>\n",
       "      <th>4</th>\n",
       "      <td>2020-06-15</td>\n",
       "      <td>Chrome Mobile</td>\n",
       "      <td>People</td>\n",
       "      <td>31.0</td>\n",
       "    </tr>\n",
       "  </tbody>\n",
       "</table>\n",
       "</div>"
      ],
      "text/plain": [
       "         date         browser user_type  visits\n",
       "0  2020-06-15   Google Chrome    People   250.0\n",
       "1  2020-06-15   Google Chrome    Robots   104.0\n",
       "2  2020-06-15  Yandex Browser    People    47.0\n",
       "3  2020-06-15         Firefox    Robots    31.0\n",
       "4  2020-06-15   Chrome Mobile    People    31.0"
      ]
     },
     "execution_count": 10,
     "metadata": {},
     "output_type": "execute_result"
    }
   ],
   "source": [
    "step_3_lesson_7.head()"
   ]
  },
  {
   "cell_type": "code",
   "execution_count": 11,
   "id": "dad8886a",
   "metadata": {},
   "outputs": [],
   "source": [
    "visits_vs_browser = step_3_lesson_7.groupby('browser', as_index=False) \\\n",
    "                                    .agg({'visits': 'sum'})"
   ]
  },
  {
   "cell_type": "code",
   "execution_count": 12,
   "id": "00a0655b",
   "metadata": {},
   "outputs": [],
   "source": [
    "full_step_3_lesson_7 = step_3_lesson_7.merge(visits_vs_browser\n",
    "                                      ,on='browser'\n",
    "                                      ,suffixes=('_type', '_all'))"
   ]
  },
  {
   "cell_type": "code",
   "execution_count": 13,
   "id": "0f311590",
   "metadata": {},
   "outputs": [],
   "source": [
    "full_step_3_lesson_7['share_visits'] = full_step_3_lesson_7.visits_type.div(full_step_3_lesson_7.visits_all) \\\n",
    "                                                            .mul(100) \\\n",
    "                                                            .round(2)"
   ]
  },
  {
   "cell_type": "code",
   "execution_count": 14,
   "id": "7aac22cd",
   "metadata": {},
   "outputs": [
    {
     "data": {
      "text/html": [
       "<div>\n",
       "<style scoped>\n",
       "    .dataframe tbody tr th:only-of-type {\n",
       "        vertical-align: middle;\n",
       "    }\n",
       "\n",
       "    .dataframe tbody tr th {\n",
       "        vertical-align: top;\n",
       "    }\n",
       "\n",
       "    .dataframe thead th {\n",
       "        text-align: right;\n",
       "    }\n",
       "</style>\n",
       "<table border=\"1\" class=\"dataframe\">\n",
       "  <thead>\n",
       "    <tr style=\"text-align: right;\">\n",
       "      <th></th>\n",
       "      <th>date</th>\n",
       "      <th>browser</th>\n",
       "      <th>user_type</th>\n",
       "      <th>visits_type</th>\n",
       "      <th>visits_all</th>\n",
       "      <th>share_visits</th>\n",
       "    </tr>\n",
       "  </thead>\n",
       "  <tbody>\n",
       "    <tr>\n",
       "      <th>15</th>\n",
       "      <td>2020-06-15</td>\n",
       "      <td>UCWEB</td>\n",
       "      <td>Robots</td>\n",
       "      <td>4.0</td>\n",
       "      <td>4.0</td>\n",
       "      <td>100.00</td>\n",
       "    </tr>\n",
       "    <tr>\n",
       "      <th>7</th>\n",
       "      <td>2020-06-15</td>\n",
       "      <td>Safari</td>\n",
       "      <td>Robots</td>\n",
       "      <td>22.0</td>\n",
       "      <td>41.0</td>\n",
       "      <td>53.66</td>\n",
       "    </tr>\n",
       "    <tr>\n",
       "      <th>4</th>\n",
       "      <td>2020-06-15</td>\n",
       "      <td>Firefox</td>\n",
       "      <td>Robots</td>\n",
       "      <td>31.0</td>\n",
       "      <td>58.0</td>\n",
       "      <td>53.45</td>\n",
       "    </tr>\n",
       "    <tr>\n",
       "      <th>20</th>\n",
       "      <td>2020-06-15</td>\n",
       "      <td>Chromium</td>\n",
       "      <td>Robots</td>\n",
       "      <td>1.0</td>\n",
       "      <td>2.0</td>\n",
       "      <td>50.00</td>\n",
       "    </tr>\n",
       "    <tr>\n",
       "      <th>12</th>\n",
       "      <td>2020-06-15</td>\n",
       "      <td>Opera</td>\n",
       "      <td>Robots</td>\n",
       "      <td>5.0</td>\n",
       "      <td>16.0</td>\n",
       "      <td>31.25</td>\n",
       "    </tr>\n",
       "    <tr>\n",
       "      <th>1</th>\n",
       "      <td>2020-06-15</td>\n",
       "      <td>Google Chrome</td>\n",
       "      <td>Robots</td>\n",
       "      <td>104.0</td>\n",
       "      <td>354.0</td>\n",
       "      <td>29.38</td>\n",
       "    </tr>\n",
       "    <tr>\n",
       "      <th>17</th>\n",
       "      <td>2020-06-15</td>\n",
       "      <td>Edge</td>\n",
       "      <td>Robots</td>\n",
       "      <td>1.0</td>\n",
       "      <td>5.0</td>\n",
       "      <td>20.00</td>\n",
       "    </tr>\n",
       "    <tr>\n",
       "      <th>3</th>\n",
       "      <td>2020-06-15</td>\n",
       "      <td>Yandex Browser</td>\n",
       "      <td>Robots</td>\n",
       "      <td>7.0</td>\n",
       "      <td>54.0</td>\n",
       "      <td>12.96</td>\n",
       "    </tr>\n",
       "    <tr>\n",
       "      <th>14</th>\n",
       "      <td>2020-06-15</td>\n",
       "      <td>Samsung Internet</td>\n",
       "      <td>Robots</td>\n",
       "      <td>1.0</td>\n",
       "      <td>9.0</td>\n",
       "      <td>11.11</td>\n",
       "    </tr>\n",
       "    <tr>\n",
       "      <th>10</th>\n",
       "      <td>2020-06-15</td>\n",
       "      <td>Mobile Safari</td>\n",
       "      <td>Robots</td>\n",
       "      <td>1.0</td>\n",
       "      <td>16.0</td>\n",
       "      <td>6.25</td>\n",
       "    </tr>\n",
       "  </tbody>\n",
       "</table>\n",
       "</div>"
      ],
      "text/plain": [
       "          date           browser user_type  visits_type  visits_all  \\\n",
       "15  2020-06-15             UCWEB    Robots          4.0         4.0   \n",
       "7   2020-06-15            Safari    Robots         22.0        41.0   \n",
       "4   2020-06-15           Firefox    Robots         31.0        58.0   \n",
       "20  2020-06-15          Chromium    Robots          1.0         2.0   \n",
       "12  2020-06-15             Opera    Robots          5.0        16.0   \n",
       "1   2020-06-15     Google Chrome    Robots        104.0       354.0   \n",
       "17  2020-06-15              Edge    Robots          1.0         5.0   \n",
       "3   2020-06-15    Yandex Browser    Robots          7.0        54.0   \n",
       "14  2020-06-15  Samsung Internet    Robots          1.0         9.0   \n",
       "10  2020-06-15     Mobile Safari    Robots          1.0        16.0   \n",
       "\n",
       "    share_visits  \n",
       "15        100.00  \n",
       "7          53.66  \n",
       "4          53.45  \n",
       "20         50.00  \n",
       "12         31.25  \n",
       "1          29.38  \n",
       "17         20.00  \n",
       "3          12.96  \n",
       "14         11.11  \n",
       "10          6.25  "
      ]
     },
     "execution_count": 14,
     "metadata": {},
     "output_type": "execute_result"
    }
   ],
   "source": [
    "full_step_3_lesson_7.query('user_type == \"Robots\"') \\\n",
    "                    .sort_values('share_visits', ascending=False)"
   ]
  },
  {
   "cell_type": "markdown",
   "id": "44df51fb",
   "metadata": {},
   "source": [
    "4. step_4_lesson_7.csv (https://drive.google.com/file/d/1ky194d65mODN0u_sTzYPU-i2pyyJrLA9/view?usp=sharing)\n",
    "Загрегуйте дані за днем, типом користувача, браузером, створіть колонку з метрикою частки заходів на сайт для кожного з цих розрізів.\n",
    "У відповіді вкажіть відсоток відкриттів сайту користувачами Safari (не ботами) з точністю до 1 знака після точки.\n",
    "Hint: зверніть увагу, тут вам потрібно знайти частку заходів конкретних типів користувачів з конкретного браузера від взагалі всіх заходів на сайт за цей день."
   ]
  },
  {
   "cell_type": "code",
   "execution_count": 15,
   "id": "f0380b11",
   "metadata": {},
   "outputs": [],
   "source": [
    "step_4_lesson_7_url='https://drive.google.com/file/d/1ky194d65mODN0u_sTzYPU-i2pyyJrLA9/view?usp=sharing'\n",
    "step_4_lesson_7_path='https://drive.google.com/uc?id=' + step_4_lesson_7_url.split('/')[-2]\n",
    "step_4_lesson_7 = pd.read_csv(step_4_lesson_7_path)"
   ]
  },
  {
   "cell_type": "code",
   "execution_count": 16,
   "id": "d5637388",
   "metadata": {},
   "outputs": [
    {
     "data": {
      "text/html": [
       "<div>\n",
       "<style scoped>\n",
       "    .dataframe tbody tr th:only-of-type {\n",
       "        vertical-align: middle;\n",
       "    }\n",
       "\n",
       "    .dataframe tbody tr th {\n",
       "        vertical-align: top;\n",
       "    }\n",
       "\n",
       "    .dataframe thead th {\n",
       "        text-align: right;\n",
       "    }\n",
       "</style>\n",
       "<table border=\"1\" class=\"dataframe\">\n",
       "  <thead>\n",
       "    <tr style=\"text-align: right;\">\n",
       "      <th></th>\n",
       "      <th>date</th>\n",
       "      <th>browser</th>\n",
       "      <th>user_type</th>\n",
       "      <th>visits</th>\n",
       "    </tr>\n",
       "  </thead>\n",
       "  <tbody>\n",
       "    <tr>\n",
       "      <th>0</th>\n",
       "      <td>2020-06-15</td>\n",
       "      <td>Google Chrome</td>\n",
       "      <td>People</td>\n",
       "      <td>250.0</td>\n",
       "    </tr>\n",
       "    <tr>\n",
       "      <th>1</th>\n",
       "      <td>2020-06-15</td>\n",
       "      <td>Google Chrome</td>\n",
       "      <td>Robots</td>\n",
       "      <td>104.0</td>\n",
       "    </tr>\n",
       "    <tr>\n",
       "      <th>2</th>\n",
       "      <td>2020-06-15</td>\n",
       "      <td>Yandex Browser</td>\n",
       "      <td>People</td>\n",
       "      <td>47.0</td>\n",
       "    </tr>\n",
       "    <tr>\n",
       "      <th>3</th>\n",
       "      <td>2020-06-15</td>\n",
       "      <td>Firefox</td>\n",
       "      <td>Robots</td>\n",
       "      <td>31.0</td>\n",
       "    </tr>\n",
       "    <tr>\n",
       "      <th>4</th>\n",
       "      <td>2020-06-15</td>\n",
       "      <td>Chrome Mobile</td>\n",
       "      <td>People</td>\n",
       "      <td>31.0</td>\n",
       "    </tr>\n",
       "  </tbody>\n",
       "</table>\n",
       "</div>"
      ],
      "text/plain": [
       "         date         browser user_type  visits\n",
       "0  2020-06-15   Google Chrome    People   250.0\n",
       "1  2020-06-15   Google Chrome    Robots   104.0\n",
       "2  2020-06-15  Yandex Browser    People    47.0\n",
       "3  2020-06-15         Firefox    Robots    31.0\n",
       "4  2020-06-15   Chrome Mobile    People    31.0"
      ]
     },
     "execution_count": 16,
     "metadata": {},
     "output_type": "execute_result"
    }
   ],
   "source": [
    "step_4_lesson_7.head()"
   ]
  },
  {
   "cell_type": "code",
   "execution_count": 17,
   "id": "cd6fcea8",
   "metadata": {},
   "outputs": [
    {
     "data": {
      "text/plain": [
       "False"
      ]
     },
     "execution_count": 17,
     "metadata": {},
     "output_type": "execute_result"
    }
   ],
   "source": [
    "step_4_lesson_7.duplicated(['date','browser', 'user_type']).any()"
   ]
  },
  {
   "cell_type": "code",
   "execution_count": 18,
   "id": "48bb465b",
   "metadata": {},
   "outputs": [],
   "source": [
    "step_4_lesson_7['percent'] = step_4_lesson_7.visits.div(step_4_lesson_7.visits.sum()).mul(100).round(1)"
   ]
  },
  {
   "cell_type": "code",
   "execution_count": 19,
   "id": "a2a73c65",
   "metadata": {},
   "outputs": [
    {
     "data": {
      "text/html": [
       "<div>\n",
       "<style scoped>\n",
       "    .dataframe tbody tr th:only-of-type {\n",
       "        vertical-align: middle;\n",
       "    }\n",
       "\n",
       "    .dataframe tbody tr th {\n",
       "        vertical-align: top;\n",
       "    }\n",
       "\n",
       "    .dataframe thead th {\n",
       "        text-align: right;\n",
       "    }\n",
       "</style>\n",
       "<table border=\"1\" class=\"dataframe\">\n",
       "  <thead>\n",
       "    <tr style=\"text-align: right;\">\n",
       "      <th></th>\n",
       "      <th>date</th>\n",
       "      <th>browser</th>\n",
       "      <th>user_type</th>\n",
       "      <th>visits</th>\n",
       "      <th>percent</th>\n",
       "    </tr>\n",
       "  </thead>\n",
       "  <tbody>\n",
       "    <tr>\n",
       "      <th>7</th>\n",
       "      <td>2020-06-15</td>\n",
       "      <td>Safari</td>\n",
       "      <td>People</td>\n",
       "      <td>19.0</td>\n",
       "      <td>3.2</td>\n",
       "    </tr>\n",
       "  </tbody>\n",
       "</table>\n",
       "</div>"
      ],
      "text/plain": [
       "         date browser user_type  visits  percent\n",
       "7  2020-06-15  Safari    People    19.0      3.2"
      ]
     },
     "execution_count": 19,
     "metadata": {},
     "output_type": "execute_result"
    }
   ],
   "source": [
    "step_4_lesson_7.query('browser == \"Safari\" and user_type == \"People\"')"
   ]
  }
 ],
 "metadata": {
  "kernelspec": {
   "display_name": "Python 3 (ipykernel)",
   "language": "python",
   "name": "python3"
  },
  "language_info": {
   "codemirror_mode": {
    "name": "ipython",
    "version": 3
   },
   "file_extension": ".py",
   "mimetype": "text/x-python",
   "name": "python",
   "nbconvert_exporter": "python",
   "pygments_lexer": "ipython3",
   "version": "3.9.4"
  }
 },
 "nbformat": 4,
 "nbformat_minor": 5
}
