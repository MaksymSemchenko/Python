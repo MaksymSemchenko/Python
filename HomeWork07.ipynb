{
 "cells": [
  {
   "cell_type": "markdown",
   "id": "8c057b78",
   "metadata": {},
   "source": [
    "1. ⭐️Завдання зі зірочкою!⭐️\n",
    "Завантажте дані з Google Sheets, які знаходяться в папці (table - Лист1). Порахуйте відсоток чоловіків серед усіх відвідувачів сайту, округліть відповідь до цілих.\n"
   ]
  },
  {
   "cell_type": "code",
   "execution_count": 1,
   "id": "d90d2d58",
   "metadata": {},
   "outputs": [],
   "source": [
    "import pandas as pd\n",
    "import numpy as np\n",
    "import seaborn as sns\n",
    "import matplotlib.pyplot as plt\n",
    "import plotly.express as px"
   ]
  },
  {
   "cell_type": "code",
   "execution_count": 2,
   "id": "e8c21a3b",
   "metadata": {},
   "outputs": [],
   "source": [
    "df_url='https://drive.google.com/file/d/1mcaQjf41Dz4ARVOtnEsNvHwGf4_rA1d4/view?usp=sharing'\n",
    "df_path='https://drive.google.com/uc?id=' + df_url.split('/')[-2]\n",
    "df = pd.read_csv(df_path)"
   ]
  },
  {
   "cell_type": "code",
   "execution_count": 3,
   "id": "bab8f8d1",
   "metadata": {},
   "outputs": [
    {
     "data": {
      "text/html": [
       "<div>\n",
       "<style scoped>\n",
       "    .dataframe tbody tr th:only-of-type {\n",
       "        vertical-align: middle;\n",
       "    }\n",
       "\n",
       "    .dataframe tbody tr th {\n",
       "        vertical-align: top;\n",
       "    }\n",
       "\n",
       "    .dataframe thead th {\n",
       "        text-align: right;\n",
       "    }\n",
       "</style>\n",
       "<table border=\"1\" class=\"dataframe\">\n",
       "  <thead>\n",
       "    <tr style=\"text-align: right;\">\n",
       "      <th></th>\n",
       "      <th>date</th>\n",
       "      <th>gender</th>\n",
       "      <th>users</th>\n",
       "    </tr>\n",
       "  </thead>\n",
       "  <tbody>\n",
       "    <tr>\n",
       "      <th>0</th>\n",
       "      <td>2020-06-14</td>\n",
       "      <td>Not specified</td>\n",
       "      <td>150</td>\n",
       "    </tr>\n",
       "    <tr>\n",
       "      <th>1</th>\n",
       "      <td>2020-06-14</td>\n",
       "      <td>male</td>\n",
       "      <td>117</td>\n",
       "    </tr>\n",
       "    <tr>\n",
       "      <th>2</th>\n",
       "      <td>2020-06-14</td>\n",
       "      <td>female</td>\n",
       "      <td>21</td>\n",
       "    </tr>\n",
       "  </tbody>\n",
       "</table>\n",
       "</div>"
      ],
      "text/plain": [
       "         date         gender  users\n",
       "0  2020-06-14  Not specified    150\n",
       "1  2020-06-14           male    117\n",
       "2  2020-06-14         female     21"
      ]
     },
     "execution_count": 3,
     "metadata": {},
     "output_type": "execute_result"
    }
   ],
   "source": [
    "df"
   ]
  },
  {
   "cell_type": "code",
   "execution_count": 4,
   "id": "c63b8172",
   "metadata": {},
   "outputs": [],
   "source": [
    "df['percent'] = df.users.div(df.users.sum()) \\\n",
    "                        .mul(100) \\\n",
    "                        .round()"
   ]
  },
  {
   "cell_type": "code",
   "execution_count": 5,
   "id": "393ef502",
   "metadata": {},
   "outputs": [
    {
     "data": {
      "text/html": [
       "<div>\n",
       "<style scoped>\n",
       "    .dataframe tbody tr th:only-of-type {\n",
       "        vertical-align: middle;\n",
       "    }\n",
       "\n",
       "    .dataframe tbody tr th {\n",
       "        vertical-align: top;\n",
       "    }\n",
       "\n",
       "    .dataframe thead th {\n",
       "        text-align: right;\n",
       "    }\n",
       "</style>\n",
       "<table border=\"1\" class=\"dataframe\">\n",
       "  <thead>\n",
       "    <tr style=\"text-align: right;\">\n",
       "      <th></th>\n",
       "      <th>date</th>\n",
       "      <th>gender</th>\n",
       "      <th>users</th>\n",
       "      <th>percent</th>\n",
       "    </tr>\n",
       "  </thead>\n",
       "  <tbody>\n",
       "    <tr>\n",
       "      <th>0</th>\n",
       "      <td>2020-06-14</td>\n",
       "      <td>Not specified</td>\n",
       "      <td>150</td>\n",
       "      <td>52.0</td>\n",
       "    </tr>\n",
       "    <tr>\n",
       "      <th>1</th>\n",
       "      <td>2020-06-14</td>\n",
       "      <td>male</td>\n",
       "      <td>117</td>\n",
       "      <td>41.0</td>\n",
       "    </tr>\n",
       "    <tr>\n",
       "      <th>2</th>\n",
       "      <td>2020-06-14</td>\n",
       "      <td>female</td>\n",
       "      <td>21</td>\n",
       "      <td>7.0</td>\n",
       "    </tr>\n",
       "  </tbody>\n",
       "</table>\n",
       "</div>"
      ],
      "text/plain": [
       "         date         gender  users  percent\n",
       "0  2020-06-14  Not specified    150     52.0\n",
       "1  2020-06-14           male    117     41.0\n",
       "2  2020-06-14         female     21      7.0"
      ]
     },
     "execution_count": 5,
     "metadata": {},
     "output_type": "execute_result"
    }
   ],
   "source": [
    "df"
   ]
  },
  {
   "cell_type": "markdown",
   "id": "5d446f6a",
   "metadata": {},
   "source": [
    "2. Завантажте файл із даними відвідуваності сайтуkarpov_courses_test.csv (https://drive.google.com/file/d/1z9bgajlcrgC_xG2otIZz4tDsjqx0VoEG/view?usp=sharing). За допомогою функції np.where створіть серію, в яку записуватиметься 1, якщо відвідування були зроблені роботами з браузера, що містить Chrome у назві та 0, в інших випадках. Помістіть серію, що вийшла, в змінну chrome_robots\n",
    "Може знадобитися:\n",
    "str.contains()"
   ]
  },
  {
   "cell_type": "code",
   "execution_count": 6,
   "id": "6a6696e4",
   "metadata": {},
   "outputs": [],
   "source": [
    "karpov_courses_test_url='https://drive.google.com/file/d/1z9bgajlcrgC_xG2otIZz4tDsjqx0VoEG/view?usp=sharing'\n",
    "karpov_courses_test_path='https://drive.google.com/uc?id=' + karpov_courses_test_url.split('/')[-2]\n",
    "karpov_courses_test = pd.read_csv(karpov_courses_test_path)"
   ]
  },
  {
   "cell_type": "code",
   "execution_count": 7,
   "id": "2d41c251",
   "metadata": {},
   "outputs": [
    {
     "data": {
      "text/html": [
       "<div>\n",
       "<style scoped>\n",
       "    .dataframe tbody tr th:only-of-type {\n",
       "        vertical-align: middle;\n",
       "    }\n",
       "\n",
       "    .dataframe tbody tr th {\n",
       "        vertical-align: top;\n",
       "    }\n",
       "\n",
       "    .dataframe thead th {\n",
       "        text-align: right;\n",
       "    }\n",
       "</style>\n",
       "<table border=\"1\" class=\"dataframe\">\n",
       "  <thead>\n",
       "    <tr style=\"text-align: right;\">\n",
       "      <th></th>\n",
       "      <th>date</th>\n",
       "      <th>browser</th>\n",
       "      <th>user_type</th>\n",
       "      <th>users</th>\n",
       "    </tr>\n",
       "  </thead>\n",
       "  <tbody>\n",
       "    <tr>\n",
       "      <th>0</th>\n",
       "      <td>2020-06-14</td>\n",
       "      <td>Google Chrome</td>\n",
       "      <td>People</td>\n",
       "      <td>139</td>\n",
       "    </tr>\n",
       "    <tr>\n",
       "      <th>1</th>\n",
       "      <td>2020-06-14</td>\n",
       "      <td>Chrome Mobile</td>\n",
       "      <td>People</td>\n",
       "      <td>35</td>\n",
       "    </tr>\n",
       "    <tr>\n",
       "      <th>2</th>\n",
       "      <td>2020-06-14</td>\n",
       "      <td>Google Chrome</td>\n",
       "      <td>Robots</td>\n",
       "      <td>28</td>\n",
       "    </tr>\n",
       "    <tr>\n",
       "      <th>3</th>\n",
       "      <td>2020-06-14</td>\n",
       "      <td>Yandex Browser</td>\n",
       "      <td>People</td>\n",
       "      <td>22</td>\n",
       "    </tr>\n",
       "    <tr>\n",
       "      <th>4</th>\n",
       "      <td>2020-06-14</td>\n",
       "      <td>Firefox</td>\n",
       "      <td>People</td>\n",
       "      <td>15</td>\n",
       "    </tr>\n",
       "  </tbody>\n",
       "</table>\n",
       "</div>"
      ],
      "text/plain": [
       "         date         browser user_type  users\n",
       "0  2020-06-14   Google Chrome    People    139\n",
       "1  2020-06-14   Chrome Mobile    People     35\n",
       "2  2020-06-14   Google Chrome    Robots     28\n",
       "3  2020-06-14  Yandex Browser    People     22\n",
       "4  2020-06-14         Firefox    People     15"
      ]
     },
     "execution_count": 7,
     "metadata": {},
     "output_type": "execute_result"
    }
   ],
   "source": [
    "karpov_courses_test.head()"
   ]
  },
  {
   "cell_type": "code",
   "execution_count": 8,
   "id": "bea83108",
   "metadata": {},
   "outputs": [],
   "source": [
    "chrome_robots = np.where((karpov_courses_test.browser.str.contains('Chrome')) & (karpov_courses_test.user_type == 'Robots'), 1, 0)\n",
    "chrome_robots = pd.Series(chrome_robots)"
   ]
  },
  {
   "cell_type": "code",
   "execution_count": 9,
   "id": "384ddf9c",
   "metadata": {},
   "outputs": [],
   "source": [
    "correspondence = {'People': 'Humans',\n",
    "                 'Robots': 'Bots'}"
   ]
  },
  {
   "cell_type": "code",
   "execution_count": 10,
   "id": "57ac902b",
   "metadata": {},
   "outputs": [
    {
     "data": {
      "text/plain": [
       "0     Humans\n",
       "1     Humans\n",
       "2       Bots\n",
       "3     Humans\n",
       "4     Humans\n",
       "5     Humans\n",
       "6       Bots\n",
       "7     Humans\n",
       "8     Humans\n",
       "9     Humans\n",
       "10    Humans\n",
       "11      Bots\n",
       "12      Bots\n",
       "13      Bots\n",
       "14      Bots\n",
       "15    Humans\n",
       "16    Humans\n",
       "17      Bots\n",
       "18      Bots\n",
       "19      Bots\n",
       "20    Humans\n",
       "21      Bots\n",
       "22    Humans\n",
       "23    Humans\n",
       "Name: user_type, dtype: object"
      ]
     },
     "execution_count": 10,
     "metadata": {},
     "output_type": "execute_result"
    }
   ],
   "source": [
    "karpov_courses_test.user_type.map(correspondence)"
   ]
  },
  {
   "cell_type": "markdown",
   "id": "94d97a20",
   "metadata": {},
   "source": [
    "3. ⭐️Завдання зі зірочкою!⭐️\n",
    "У вас є датасет sample_ads.csv (https://drive.google.com/file/d/1iAFv8kA-QKBZp_AaGKga5XZBgKVz-iEf/view?usp=sharing) з даними про кліки та покази по оголошення, в датасеті є пропуски. Обчисліть кількість рядків без перепусток у колонці click_type. Запишіть відповідь на змінну not_nan_count\n",
    "\n",
    "     ad_id - id оголошення\n",
    "     user_id - ID користувача\n",
    "     click_type - тип кліка (клік за заголовком оголошення, клік по центру)"
   ]
  },
  {
   "cell_type": "code",
   "execution_count": 11,
   "id": "a65b6c16",
   "metadata": {},
   "outputs": [],
   "source": [
    "sample_ads_url='https://drive.google.com/file/d/1iAFv8kA-QKBZp_AaGKga5XZBgKVz-iEf/view?usp=sharing'\n",
    "sample_ads_path='https://drive.google.com/uc?id=' + sample_ads_url.split('/')[-2]\n",
    "sample_ads = pd.read_csv(sample_ads_path)"
   ]
  },
  {
   "cell_type": "code",
   "execution_count": 12,
   "id": "1ac678a2",
   "metadata": {},
   "outputs": [
    {
     "data": {
      "text/html": [
       "<div>\n",
       "<style scoped>\n",
       "    .dataframe tbody tr th:only-of-type {\n",
       "        vertical-align: middle;\n",
       "    }\n",
       "\n",
       "    .dataframe tbody tr th {\n",
       "        vertical-align: top;\n",
       "    }\n",
       "\n",
       "    .dataframe thead th {\n",
       "        text-align: right;\n",
       "    }\n",
       "</style>\n",
       "<table border=\"1\" class=\"dataframe\">\n",
       "  <thead>\n",
       "    <tr style=\"text-align: right;\">\n",
       "      <th></th>\n",
       "      <th>ad_id</th>\n",
       "      <th>user_id</th>\n",
       "      <th>click_type</th>\n",
       "    </tr>\n",
       "  </thead>\n",
       "  <tbody>\n",
       "    <tr>\n",
       "      <th>0</th>\n",
       "      <td>12345</td>\n",
       "      <td>qwert</td>\n",
       "      <td>top</td>\n",
       "    </tr>\n",
       "    <tr>\n",
       "      <th>1</th>\n",
       "      <td>12345</td>\n",
       "      <td>fsssc</td>\n",
       "      <td>center</td>\n",
       "    </tr>\n",
       "    <tr>\n",
       "      <th>2</th>\n",
       "      <td>12345</td>\n",
       "      <td>vfvgg</td>\n",
       "      <td>NaN</td>\n",
       "    </tr>\n",
       "    <tr>\n",
       "      <th>3</th>\n",
       "      <td>12345</td>\n",
       "      <td>asrvv</td>\n",
       "      <td>NaN</td>\n",
       "    </tr>\n",
       "    <tr>\n",
       "      <th>4</th>\n",
       "      <td>12345</td>\n",
       "      <td>tynuy</td>\n",
       "      <td>top</td>\n",
       "    </tr>\n",
       "  </tbody>\n",
       "</table>\n",
       "</div>"
      ],
      "text/plain": [
       "   ad_id user_id click_type\n",
       "0  12345   qwert        top\n",
       "1  12345   fsssc     center\n",
       "2  12345   vfvgg        NaN\n",
       "3  12345   asrvv        NaN\n",
       "4  12345   tynuy        top"
      ]
     },
     "execution_count": 12,
     "metadata": {},
     "output_type": "execute_result"
    }
   ],
   "source": [
    "sample_ads.head()"
   ]
  },
  {
   "cell_type": "code",
   "execution_count": 13,
   "id": "26b3ed29",
   "metadata": {},
   "outputs": [
    {
     "data": {
      "text/plain": [
       "0        top\n",
       "1     center\n",
       "2        NaN\n",
       "3        NaN\n",
       "4        top\n",
       "5        NaN\n",
       "6        top\n",
       "7        NaN\n",
       "8     center\n",
       "9        top\n",
       "10       top\n",
       "11    center\n",
       "12       NaN\n",
       "13       NaN\n",
       "14       top\n",
       "15    center\n",
       "16       NaN\n",
       "17       top\n",
       "Name: click_type, dtype: object"
      ]
     },
     "execution_count": 13,
     "metadata": {},
     "output_type": "execute_result"
    }
   ],
   "source": [
    "sample_ads.click_type"
   ]
  },
  {
   "cell_type": "code",
   "execution_count": 14,
   "id": "89e41646",
   "metadata": {},
   "outputs": [
    {
     "data": {
      "text/plain": [
       "11"
      ]
     },
     "execution_count": 14,
     "metadata": {},
     "output_type": "execute_result"
    }
   ],
   "source": [
    "(~sample_ads.click_type.isna()).sum()"
   ]
  },
  {
   "cell_type": "code",
   "execution_count": 15,
   "id": "e55578cc",
   "metadata": {},
   "outputs": [
    {
     "data": {
      "text/plain": [
       "11"
      ]
     },
     "execution_count": 15,
     "metadata": {},
     "output_type": "execute_result"
    }
   ],
   "source": [
    "sample_ads.click_type.notna().sum()"
   ]
  },
  {
   "cell_type": "markdown",
   "id": "772cd17d",
   "metadata": {},
   "source": [
    "4. ⭐️Завдання зі зірочкою!⭐️\n",
    "У списку lst є різні елементи. Створіть список new_list та зробіть таке:\n",
    "- за допомогою конструкції try except та циклу спробуйте перетворити кожне значення в аркуші на int\n",
    "- якщо це вийшло - додайте перетворене значення до списку new_list"
   ]
  },
  {
   "cell_type": "code",
   "execution_count": 16,
   "id": "3bd6a9ed",
   "metadata": {},
   "outputs": [],
   "source": [
    "lst = ['0', '2', 'text', '11']"
   ]
  },
  {
   "cell_type": "code",
   "execution_count": 17,
   "id": "fa5d5852",
   "metadata": {},
   "outputs": [],
   "source": [
    "new_list = []"
   ]
  },
  {
   "cell_type": "code",
   "execution_count": 18,
   "id": "dc519238",
   "metadata": {},
   "outputs": [],
   "source": [
    "for element in lst:\n",
    "    try:\n",
    "        new_list.append(int(element))\n",
    "    except:\n",
    "        continue \n",
    "#         pass - пропустити\n",
    "#         continue - продовжувати"
   ]
  },
  {
   "cell_type": "code",
   "execution_count": 19,
   "id": "517687b5",
   "metadata": {},
   "outputs": [
    {
     "data": {
      "text/plain": [
       "[0, 2, 11]"
      ]
     },
     "execution_count": 19,
     "metadata": {},
     "output_type": "execute_result"
    }
   ],
   "source": [
    "new_list"
   ]
  },
  {
   "cell_type": "markdown",
   "id": "cef1b35e",
   "metadata": {},
   "source": [
    "5. ⭐️Завдання зі зірочкою!⭐️\n",
    "Тепер спробуємо скористатися знаннями використання Telegram API. Надішліть собі в личку будь-яке послання, а у відповідь до цього кроку напишіть нік бота, від імені якого надсилатимете повідомлення."
   ]
  },
  {
   "cell_type": "code",
   "execution_count": 20,
   "id": "f1b0ae7f",
   "metadata": {},
   "outputs": [],
   "source": [
    "import json\n",
    "import requests\n",
    "from urllib.parse import urlencode"
   ]
  },
  {
   "cell_type": "code",
   "execution_count": 21,
   "id": "e2153f37",
   "metadata": {},
   "outputs": [],
   "source": [
    "with open ('/_Semchenko/telegram.json') as src:\n",
    "    data = json.load(src)"
   ]
  },
  {
   "cell_type": "code",
   "execution_count": 22,
   "id": "6e3655c9",
   "metadata": {},
   "outputs": [],
   "source": [
    "token = data['token']\n",
    "chat_id = 910658369"
   ]
  },
  {
   "cell_type": "code",
   "execution_count": 23,
   "id": "6b2e0f66",
   "metadata": {},
   "outputs": [
    {
     "name": "stdout",
     "output_type": "stream",
     "text": [
      "Повідомлення було успішно надіслано.\n"
     ]
    }
   ],
   "source": [
    "# текс\n",
    "message = 'Привіт!'\n",
    "\n",
    "params = {'chat_id': chat_id, 'text': message}\n",
    "\n",
    "base_url = f'https://api.telegram.org/bot{token}/'\n",
    "url = base_url + 'sendMessage'\n",
    "\n",
    "res = requests.post(url, params=params)\n",
    "\n",
    "# Перевірка відповіді на запит\n",
    "if res.status_code == 200:\n",
    "    print('Повідомлення було успішно надіслано.')\n",
    "else:\n",
    "    print('Помилка під час надсилання повідомлення.')\n",
    "    print(res.text)"
   ]
  },
  {
   "cell_type": "code",
   "execution_count": null,
   "id": "91cc9698",
   "metadata": {},
   "outputs": [],
   "source": [
    "# # таблиця\n",
    "# result = sample_ads.head()\n",
    "# result_text = result.click_type.to_string()\n",
    "# message = f'Результат коду:\\n```\\n{result_text}\\n```'\n",
    "\n",
    "# params = {'chat_id': chat_id, 'text': message}\n",
    "\n",
    "# base_url = f'https://api.telegram.org/bot{token}/'\n",
    "# url = base_url + 'sendMessage'\n",
    "\n",
    "# res = requests.post(url, params=params)\n",
    "\n",
    "# # Перевірка відповіді на запит\n",
    "# if res.status_code == 200:\n",
    "#     print('Повідомлення було успішно надіслано.')\n",
    "# else:\n",
    "#     print('Помилка під час надсилання повідомлення.')\n",
    "#     print(res.text)"
   ]
  },
  {
   "cell_type": "code",
   "execution_count": null,
   "id": "7b84a96d",
   "metadata": {},
   "outputs": [],
   "source": [
    "# # Ваш код для створення графіку\n",
    "# sample_ads.plot()\n",
    "\n",
    "# # Зберігання графіку як зображення\n",
    "# plt.savefig('sample_plot.png')\n",
    "\n",
    "# # Відкривання і зчитування збереженого зображення як байтового файлу\n",
    "# photo = open('sample_plot.png', 'rb')\n",
    "\n",
    "# params = {'chat_id': chat_id}\n",
    "# base_url = f'https://api.telegram.org/bot{token}/'\n",
    "# url = base_url + 'sendPhoto'\n",
    "\n",
    "# res = requests.post(url, params=params, files={'photo': photo})\n",
    "\n",
    "# # Закрити файл після використання\n",
    "# photo.close()\n",
    "\n",
    "# # Перевірка відповіді на запит\n",
    "# if res.status_code == 200:\n",
    "#     print('Файл було успішно надіслано.')\n",
    "# else:\n",
    "#     print('Помилка під час надсилання файлу.')\n",
    "#     print(res.text)\n",
    "# (res.text)"
   ]
  }
 ],
 "metadata": {
  "kernelspec": {
   "display_name": "Python 3 (ipykernel)",
   "language": "python",
   "name": "python3"
  },
  "language_info": {
   "codemirror_mode": {
    "name": "ipython",
    "version": 3
   },
   "file_extension": ".py",
   "mimetype": "text/x-python",
   "name": "python",
   "nbconvert_exporter": "python",
   "pygments_lexer": "ipython3",
   "version": "3.9.4"
  }
 },
 "nbformat": 4,
 "nbformat_minor": 5
}
